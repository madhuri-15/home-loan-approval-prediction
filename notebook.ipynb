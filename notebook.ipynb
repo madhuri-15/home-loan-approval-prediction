{
 "cells": [
  {
   "cell_type": "markdown",
   "id": "ea3f4829",
   "metadata": {},
   "source": [
    "# Home Loan Approval Predictions Analysis & Model Development.\n",
    "\n",
    "## 1. Problem Statement\n",
    "\n",
    "A loan is a sum of money that one or more individuals or companies borrow from banks or other financial institutions; to financially manage events. In doing so, the borrower incurs a debt, which he has to pay back with interest within a given period.\n",
    "Loans can be education loans or personal loans. The most common type of loan is a **Home Loan** or **Mortgage**. A mortgage is a type of secured loan which is taken for the purchase of a property. A typical process for home loans starts with an application from the customer; after that company will validate the eligibility of the customer for a loan, based on the result application can be accepted or rejected.. The loan approval  is the most crucial stage of a home loan process and takes a long time to complete. \n",
    "\n",
    "We can automate this process of eligibility of customers for a home loan using a Machine Learning algorithm. Our objective is to build a machine learning model to predict whether a particular customer is eligible for a home loan based on the customer details provided while filling out the online application form.\n",
    "\n",
    "### The dataset\n",
    "\n",
    "The dataset is taken from the analytics vidya hackathon platform. You can download the data from [here](https://datahack.analyticsvidhya.com/contest/practice-problem-loan-prediction-iii/#ProblemStatement). There are three data files available to download while I have used only the `train.csv` file to train and validate a machine learning model.\n",
    "\n",
    "The description of data attributes is as follows:\n",
    "\n",
    "|Attributes|Description|\n",
    "|-|-|\n",
    "|loan id | Applicant's unqiue loan id|\n",
    "|gender|  Applicant's gender male/female|\n",
    "|married | Whether applicant is married or not (Y/N)|\n",
    "|dependents | Number of dependents on applicant|\n",
    "|education |  Education level of applicant(graduate/under graduate)|\n",
    "|self-employed | self employed (y/n)|\n",
    "|applicant-income | Applicant income|\n",
    "|co-applicant income | Coapplicant's income, who is apply with applicant as money borrowers.|\n",
    "|loan amount | Loan amount in thousands|\n",
    "|loan amount term | Amount of time the lender gives you to repay your laon.|\n",
    "|credit history | Credit history meets guidlines|\n",
    "|property area | urban/semi urban / rural|\n",
    "|loan status | loan approved(y/n)|\n",
    "\n",
    "This is binary classification machine learning problem, where we will predict the `loan_status` which describes `1` if application is approved and `0` if application is rejected."
   ]
  },
  {
   "cell_type": "markdown",
   "id": "c1a29279",
   "metadata": {},
   "source": [
    "## 2. Data Preparation"
   ]
  },
  {
   "cell_type": "code",
   "execution_count": 71,
   "id": "cb5995b3",
   "metadata": {
    "ExecuteTime": {
     "end_time": "2022-11-09T11:02:03.605351Z",
     "start_time": "2022-11-09T11:02:03.585352Z"
    }
   },
   "outputs": [],
   "source": [
    "# importing libraries\n",
    "import pandas as pd\n",
    "import numpy as np \n",
    "\n",
    "import matplotlib.pyplot as plt\n",
    "import seaborn as sns\n",
    "%matplotlib inline\n",
    "\n",
    "from scipy import stats\n",
    "\n",
    "# Data Preprocessing\n",
    "from sklearn.impute import SimpleImputer\n",
    "from sklearn.impute import KNNImputer\n",
    "from sklearn.preprocessing import OneHotEncoder, StandardScaler\n",
    "from sklearn.compose import ColumnTransformer\n",
    "from sklearn.pipeline import Pipeline\n",
    "\n",
    "# cross validation\n",
    "from sklearn.model_selection import train_test_split\n",
    "from sklearn.model_selection import StratifiedKFold, cross_val_predict\n",
    "from sklearn.model_selection import cross_val_score\n",
    "\n",
    "# classifiers\n",
    "from sklearn.linear_model import LogisticRegression\n",
    "from sklearn.ensemble import RandomForestClassifier\n",
    "from sklearn.ensemble import GradientBoostingClassifier\n",
    "from sklearn.tree import DecisionTreeClassifier\n",
    "from sklearn.neighbors import KNeighborsClassifier\n",
    "from xgboost import XGBClassifier\n",
    "from sklearn.svm import SVC\n",
    "\n",
    "from sklearn.metrics import f1_score\n",
    "\n",
    "# Setting color palatte\n",
    "colors = ['#007bff','#fcb107','#28a745','#dc3545']\n",
    "sns.set_theme('talk')\n",
    "sns.set_palette(colors)\n",
    "\n",
    "plt.rcParams['figure.dpi'] = 70\n",
    "plt.rcParams['figure.figsize'] = [8, 5]"
   ]
  },
  {
   "cell_type": "code",
   "execution_count": 3,
   "id": "2c06a933",
   "metadata": {
    "ExecuteTime": {
     "end_time": "2022-11-09T11:02:06.016183Z",
     "start_time": "2022-11-09T11:02:05.326016Z"
    }
   },
   "outputs": [
    {
     "data": {
      "text/html": [
       "<div>\n",
       "<style scoped>\n",
       "    .dataframe tbody tr th:only-of-type {\n",
       "        vertical-align: middle;\n",
       "    }\n",
       "\n",
       "    .dataframe tbody tr th {\n",
       "        vertical-align: top;\n",
       "    }\n",
       "\n",
       "    .dataframe thead th {\n",
       "        text-align: right;\n",
       "    }\n",
       "</style>\n",
       "<table border=\"1\" class=\"dataframe\">\n",
       "  <thead>\n",
       "    <tr style=\"text-align: right;\">\n",
       "      <th></th>\n",
       "      <th>Loan_ID</th>\n",
       "      <th>Gender</th>\n",
       "      <th>Married</th>\n",
       "      <th>Dependents</th>\n",
       "      <th>Education</th>\n",
       "      <th>Self_Employed</th>\n",
       "      <th>ApplicantIncome</th>\n",
       "      <th>CoapplicantIncome</th>\n",
       "      <th>LoanAmount</th>\n",
       "      <th>Loan_Amount_Term</th>\n",
       "      <th>Credit_History</th>\n",
       "      <th>Property_Area</th>\n",
       "      <th>Loan_Status</th>\n",
       "    </tr>\n",
       "  </thead>\n",
       "  <tbody>\n",
       "    <tr>\n",
       "      <th>0</th>\n",
       "      <td>LP001002</td>\n",
       "      <td>Male</td>\n",
       "      <td>No</td>\n",
       "      <td>0</td>\n",
       "      <td>Graduate</td>\n",
       "      <td>No</td>\n",
       "      <td>5849</td>\n",
       "      <td>0.0</td>\n",
       "      <td>NaN</td>\n",
       "      <td>360.0</td>\n",
       "      <td>1.0</td>\n",
       "      <td>Urban</td>\n",
       "      <td>Y</td>\n",
       "    </tr>\n",
       "    <tr>\n",
       "      <th>1</th>\n",
       "      <td>LP001003</td>\n",
       "      <td>Male</td>\n",
       "      <td>Yes</td>\n",
       "      <td>1</td>\n",
       "      <td>Graduate</td>\n",
       "      <td>No</td>\n",
       "      <td>4583</td>\n",
       "      <td>1508.0</td>\n",
       "      <td>128.0</td>\n",
       "      <td>360.0</td>\n",
       "      <td>1.0</td>\n",
       "      <td>Rural</td>\n",
       "      <td>N</td>\n",
       "    </tr>\n",
       "    <tr>\n",
       "      <th>2</th>\n",
       "      <td>LP001005</td>\n",
       "      <td>Male</td>\n",
       "      <td>Yes</td>\n",
       "      <td>0</td>\n",
       "      <td>Graduate</td>\n",
       "      <td>Yes</td>\n",
       "      <td>3000</td>\n",
       "      <td>0.0</td>\n",
       "      <td>66.0</td>\n",
       "      <td>360.0</td>\n",
       "      <td>1.0</td>\n",
       "      <td>Urban</td>\n",
       "      <td>Y</td>\n",
       "    </tr>\n",
       "    <tr>\n",
       "      <th>3</th>\n",
       "      <td>LP001006</td>\n",
       "      <td>Male</td>\n",
       "      <td>Yes</td>\n",
       "      <td>0</td>\n",
       "      <td>Not Graduate</td>\n",
       "      <td>No</td>\n",
       "      <td>2583</td>\n",
       "      <td>2358.0</td>\n",
       "      <td>120.0</td>\n",
       "      <td>360.0</td>\n",
       "      <td>1.0</td>\n",
       "      <td>Urban</td>\n",
       "      <td>Y</td>\n",
       "    </tr>\n",
       "    <tr>\n",
       "      <th>4</th>\n",
       "      <td>LP001008</td>\n",
       "      <td>Male</td>\n",
       "      <td>No</td>\n",
       "      <td>0</td>\n",
       "      <td>Graduate</td>\n",
       "      <td>No</td>\n",
       "      <td>6000</td>\n",
       "      <td>0.0</td>\n",
       "      <td>141.0</td>\n",
       "      <td>360.0</td>\n",
       "      <td>1.0</td>\n",
       "      <td>Urban</td>\n",
       "      <td>Y</td>\n",
       "    </tr>\n",
       "  </tbody>\n",
       "</table>\n",
       "</div>"
      ],
      "text/plain": [
       "    Loan_ID Gender Married Dependents     Education Self_Employed  \\\n",
       "0  LP001002   Male      No          0      Graduate            No   \n",
       "1  LP001003   Male     Yes          1      Graduate            No   \n",
       "2  LP001005   Male     Yes          0      Graduate           Yes   \n",
       "3  LP001006   Male     Yes          0  Not Graduate            No   \n",
       "4  LP001008   Male      No          0      Graduate            No   \n",
       "\n",
       "   ApplicantIncome  CoapplicantIncome  LoanAmount  Loan_Amount_Term  \\\n",
       "0             5849                0.0         NaN             360.0   \n",
       "1             4583             1508.0       128.0             360.0   \n",
       "2             3000                0.0        66.0             360.0   \n",
       "3             2583             2358.0       120.0             360.0   \n",
       "4             6000                0.0       141.0             360.0   \n",
       "\n",
       "   Credit_History Property_Area Loan_Status  \n",
       "0             1.0         Urban           Y  \n",
       "1             1.0         Rural           N  \n",
       "2             1.0         Urban           Y  \n",
       "3             1.0         Urban           Y  \n",
       "4             1.0         Urban           Y  "
      ]
     },
     "execution_count": 3,
     "metadata": {},
     "output_type": "execute_result"
    }
   ],
   "source": [
    "# reading data \n",
    "df = pd.read_csv(\"data.csv\")\n",
    "\n",
    "# view first five rows\n",
    "df.head()"
   ]
  },
  {
   "cell_type": "code",
   "execution_count": 4,
   "id": "b7d5b03c",
   "metadata": {
    "ExecuteTime": {
     "end_time": "2022-11-09T11:02:06.032173Z",
     "start_time": "2022-11-09T11:02:06.021174Z"
    }
   },
   "outputs": [
    {
     "name": "stdout",
     "output_type": "stream",
     "text": [
      "Number of instances  :: 614\n",
      "Number of attributes :: 13\n"
     ]
    }
   ],
   "source": [
    "# shape of the data\n",
    "print(\"Number of instances  ::\", df.shape[0])\n",
    "print(\"Number of attributes ::\", df.shape[1])"
   ]
  },
  {
   "cell_type": "code",
   "execution_count": 5,
   "id": "3e6b9c67",
   "metadata": {
    "ExecuteTime": {
     "end_time": "2022-11-09T11:02:06.159019Z",
     "start_time": "2022-11-09T11:02:06.137010Z"
    }
   },
   "outputs": [
    {
     "name": "stdout",
     "output_type": "stream",
     "text": [
      "List of columns::  ['Loan_ID', 'Gender', 'Married', 'Dependents', 'Education', 'Self_Employed', 'ApplicantIncome', 'CoapplicantIncome', 'LoanAmount', 'Loan_Amount_Term', 'Credit_History', 'Property_Area', 'Loan_Status']\n"
     ]
    }
   ],
   "source": [
    "# Columns names.\n",
    "column_list = df.columns.tolist()\n",
    "print(\"List of columns:: \", column_list)"
   ]
  },
  {
   "cell_type": "code",
   "execution_count": 6,
   "id": "3efec6bc",
   "metadata": {
    "ExecuteTime": {
     "end_time": "2022-11-09T11:02:06.335041Z",
     "start_time": "2022-11-09T11:02:06.320012Z"
    }
   },
   "outputs": [],
   "source": [
    "# Clean up the column names.\n",
    "rename_col = {\n",
    "    'ApplicantIncome':'applicant_income',\n",
    "    'CoapplicantIncome':'coapplicant_income',\n",
    "    'LoanAmount':'loan_amount'\n",
    "}\n",
    "\n",
    "df.rename(columns=rename_col, inplace=True)\n",
    "df.rename(columns={col:col.lower() for col in column_list}, inplace=True)        "
   ]
  },
  {
   "cell_type": "code",
   "execution_count": 7,
   "id": "d6458c8c",
   "metadata": {
    "ExecuteTime": {
     "end_time": "2022-11-09T11:02:06.574389Z",
     "start_time": "2022-11-09T11:02:06.542399Z"
    }
   },
   "outputs": [
    {
     "data": {
      "text/html": [
       "<div>\n",
       "<style scoped>\n",
       "    .dataframe tbody tr th:only-of-type {\n",
       "        vertical-align: middle;\n",
       "    }\n",
       "\n",
       "    .dataframe tbody tr th {\n",
       "        vertical-align: top;\n",
       "    }\n",
       "\n",
       "    .dataframe thead th {\n",
       "        text-align: right;\n",
       "    }\n",
       "</style>\n",
       "<table border=\"1\" class=\"dataframe\">\n",
       "  <thead>\n",
       "    <tr style=\"text-align: right;\">\n",
       "      <th></th>\n",
       "      <th>loan_id</th>\n",
       "      <th>gender</th>\n",
       "      <th>married</th>\n",
       "      <th>dependents</th>\n",
       "      <th>education</th>\n",
       "      <th>self_employed</th>\n",
       "      <th>applicant_income</th>\n",
       "      <th>coapplicant_income</th>\n",
       "      <th>loan_amount</th>\n",
       "      <th>loan_amount_term</th>\n",
       "      <th>credit_history</th>\n",
       "      <th>property_area</th>\n",
       "      <th>loan_status</th>\n",
       "    </tr>\n",
       "  </thead>\n",
       "  <tbody>\n",
       "    <tr>\n",
       "      <th>0</th>\n",
       "      <td>LP001002</td>\n",
       "      <td>Male</td>\n",
       "      <td>No</td>\n",
       "      <td>0</td>\n",
       "      <td>Graduate</td>\n",
       "      <td>No</td>\n",
       "      <td>5849</td>\n",
       "      <td>0.0</td>\n",
       "      <td>NaN</td>\n",
       "      <td>360.0</td>\n",
       "      <td>1.0</td>\n",
       "      <td>Urban</td>\n",
       "      <td>Y</td>\n",
       "    </tr>\n",
       "    <tr>\n",
       "      <th>1</th>\n",
       "      <td>LP001003</td>\n",
       "      <td>Male</td>\n",
       "      <td>Yes</td>\n",
       "      <td>1</td>\n",
       "      <td>Graduate</td>\n",
       "      <td>No</td>\n",
       "      <td>4583</td>\n",
       "      <td>1508.0</td>\n",
       "      <td>128.0</td>\n",
       "      <td>360.0</td>\n",
       "      <td>1.0</td>\n",
       "      <td>Rural</td>\n",
       "      <td>N</td>\n",
       "    </tr>\n",
       "    <tr>\n",
       "      <th>2</th>\n",
       "      <td>LP001005</td>\n",
       "      <td>Male</td>\n",
       "      <td>Yes</td>\n",
       "      <td>0</td>\n",
       "      <td>Graduate</td>\n",
       "      <td>Yes</td>\n",
       "      <td>3000</td>\n",
       "      <td>0.0</td>\n",
       "      <td>66.0</td>\n",
       "      <td>360.0</td>\n",
       "      <td>1.0</td>\n",
       "      <td>Urban</td>\n",
       "      <td>Y</td>\n",
       "    </tr>\n",
       "    <tr>\n",
       "      <th>3</th>\n",
       "      <td>LP001006</td>\n",
       "      <td>Male</td>\n",
       "      <td>Yes</td>\n",
       "      <td>0</td>\n",
       "      <td>Not Graduate</td>\n",
       "      <td>No</td>\n",
       "      <td>2583</td>\n",
       "      <td>2358.0</td>\n",
       "      <td>120.0</td>\n",
       "      <td>360.0</td>\n",
       "      <td>1.0</td>\n",
       "      <td>Urban</td>\n",
       "      <td>Y</td>\n",
       "    </tr>\n",
       "    <tr>\n",
       "      <th>4</th>\n",
       "      <td>LP001008</td>\n",
       "      <td>Male</td>\n",
       "      <td>No</td>\n",
       "      <td>0</td>\n",
       "      <td>Graduate</td>\n",
       "      <td>No</td>\n",
       "      <td>6000</td>\n",
       "      <td>0.0</td>\n",
       "      <td>141.0</td>\n",
       "      <td>360.0</td>\n",
       "      <td>1.0</td>\n",
       "      <td>Urban</td>\n",
       "      <td>Y</td>\n",
       "    </tr>\n",
       "  </tbody>\n",
       "</table>\n",
       "</div>"
      ],
      "text/plain": [
       "    loan_id gender married dependents     education self_employed  \\\n",
       "0  LP001002   Male      No          0      Graduate            No   \n",
       "1  LP001003   Male     Yes          1      Graduate            No   \n",
       "2  LP001005   Male     Yes          0      Graduate           Yes   \n",
       "3  LP001006   Male     Yes          0  Not Graduate            No   \n",
       "4  LP001008   Male      No          0      Graduate            No   \n",
       "\n",
       "   applicant_income  coapplicant_income  loan_amount  loan_amount_term  \\\n",
       "0              5849                 0.0          NaN             360.0   \n",
       "1              4583              1508.0        128.0             360.0   \n",
       "2              3000                 0.0         66.0             360.0   \n",
       "3              2583              2358.0        120.0             360.0   \n",
       "4              6000                 0.0        141.0             360.0   \n",
       "\n",
       "   credit_history property_area loan_status  \n",
       "0             1.0         Urban           Y  \n",
       "1             1.0         Rural           N  \n",
       "2             1.0         Urban           Y  \n",
       "3             1.0         Urban           Y  \n",
       "4             1.0         Urban           Y  "
      ]
     },
     "execution_count": 7,
     "metadata": {},
     "output_type": "execute_result"
    }
   ],
   "source": [
    "# view\n",
    "df.head()"
   ]
  },
  {
   "cell_type": "code",
   "execution_count": 8,
   "id": "0f4f1fe3",
   "metadata": {
    "ExecuteTime": {
     "end_time": "2022-11-09T11:02:06.909999Z",
     "start_time": "2022-11-09T11:02:06.774772Z"
    }
   },
   "outputs": [
    {
     "data": {
      "text/plain": [
       "0"
      ]
     },
     "execution_count": 8,
     "metadata": {},
     "output_type": "execute_result"
    }
   ],
   "source": [
    "# Check if there is any duplicate records present in the data\n",
    "df.duplicated().sum()"
   ]
  },
  {
   "cell_type": "code",
   "execution_count": 9,
   "id": "84b88c9c",
   "metadata": {
    "ExecuteTime": {
     "end_time": "2022-11-09T11:02:07.038005Z",
     "start_time": "2022-11-09T11:02:07.015997Z"
    }
   },
   "outputs": [
    {
     "data": {
      "text/plain": [
       "loan_id                object\n",
       "gender                 object\n",
       "married                object\n",
       "dependents             object\n",
       "education              object\n",
       "self_employed          object\n",
       "applicant_income        int64\n",
       "coapplicant_income    float64\n",
       "loan_amount           float64\n",
       "loan_amount_term      float64\n",
       "credit_history        float64\n",
       "property_area          object\n",
       "loan_status            object\n",
       "dtype: object"
      ]
     },
     "execution_count": 9,
     "metadata": {},
     "output_type": "execute_result"
    }
   ],
   "source": [
    "# Check the datatypes.\n",
    "df.dtypes"
   ]
  },
  {
   "cell_type": "code",
   "execution_count": 10,
   "id": "96b3e447",
   "metadata": {
    "ExecuteTime": {
     "end_time": "2022-11-09T11:02:07.277400Z",
     "start_time": "2022-11-09T11:02:07.249382Z"
    },
    "scrolled": false
   },
   "outputs": [
    {
     "name": "stdout",
     "output_type": "stream",
     "text": [
      "GENDER :: ['Male' 'Female' nan]\n",
      "Male      489\n",
      "Female    112\n",
      "Name: gender, dtype: int64\n",
      "------------------------------\n",
      "MARRIED :: ['No' 'Yes' nan]\n",
      "Yes    398\n",
      "No     213\n",
      "Name: married, dtype: int64\n",
      "------------------------------\n",
      "DEPENDENTS :: ['0' '1' '2' '3+' nan]\n",
      "0     345\n",
      "1     102\n",
      "2     101\n",
      "3+     51\n",
      "Name: dependents, dtype: int64\n",
      "------------------------------\n",
      "EDUCATION :: ['Graduate' 'Not Graduate']\n",
      "Graduate        480\n",
      "Not Graduate    134\n",
      "Name: education, dtype: int64\n",
      "------------------------------\n",
      "SELF_EMPLOYED :: ['No' 'Yes' nan]\n",
      "No     500\n",
      "Yes     82\n",
      "Name: self_employed, dtype: int64\n",
      "------------------------------\n",
      "CREDIT_HISTORY :: [ 1.  0. nan]\n",
      "1.0    475\n",
      "0.0     89\n",
      "Name: credit_history, dtype: int64\n",
      "------------------------------\n",
      "PROPERTY_AREA :: ['Urban' 'Rural' 'Semiurban']\n",
      "Semiurban    233\n",
      "Urban        202\n",
      "Rural        179\n",
      "Name: property_area, dtype: int64\n",
      "------------------------------\n",
      "LOAN_STATUS :: ['Y' 'N']\n",
      "Y    422\n",
      "N    192\n",
      "Name: loan_status, dtype: int64\n",
      "------------------------------\n"
     ]
    }
   ],
   "source": [
    "# Check the unique values in categorical data.\n",
    "columns = ['gender', \n",
    "            'married', \n",
    "            'dependents', \n",
    "            'education', \n",
    "            'self_employed', \n",
    "            'credit_history', \n",
    "            'property_area', \n",
    "            'loan_status'\n",
    "        ]\n",
    "\n",
    "for col in columns:\n",
    "    print(f\"{col.upper()} :: {df[col].unique()}\")\n",
    "    print(df[col].value_counts())\n",
    "    print(\"---\"*10)"
   ]
  },
  {
   "cell_type": "markdown",
   "id": "733b5942",
   "metadata": {},
   "source": [
    "### 2.1 Typecasting"
   ]
  },
  {
   "cell_type": "code",
   "execution_count": 11,
   "id": "e8e43e85",
   "metadata": {
    "ExecuteTime": {
     "end_time": "2022-11-09T11:02:07.819537Z",
     "start_time": "2022-11-09T11:02:07.699323Z"
    }
   },
   "outputs": [],
   "source": [
    "\"\"\"\n",
    "Let's change the case of string values in categorical columns in lower case and replace space if any with underscore(_).\n",
    "& change the data type of those columns from `object` to `category`. \n",
    "\"\"\"\n",
    "categorical_cols = ['gender', \n",
    "            'married', \n",
    "            'dependents', \n",
    "            'education', \n",
    "            'self_employed', \n",
    "            'property_area', \n",
    "            'loan_status'\n",
    "        ]\n",
    "for col in categorical_cols:\n",
    "    try:\n",
    "        df[col] = df[col].str.lower().str.replace(\" \", \"_\")\n",
    "        df[col] = df[col].astype('category')                \n",
    "    except AttributeError:\n",
    "        pass"
   ]
  },
  {
   "cell_type": "code",
   "execution_count": 12,
   "id": "89c07495",
   "metadata": {
    "ExecuteTime": {
     "end_time": "2022-11-09T11:02:07.914572Z",
     "start_time": "2022-11-09T11:02:07.897557Z"
    }
   },
   "outputs": [
    {
     "data": {
      "text/plain": [
       "loan_id                 object\n",
       "gender                category\n",
       "married               category\n",
       "dependents            category\n",
       "education             category\n",
       "self_employed         category\n",
       "applicant_income         int64\n",
       "coapplicant_income     float64\n",
       "loan_amount            float64\n",
       "loan_amount_term       float64\n",
       "credit_history         float64\n",
       "property_area         category\n",
       "loan_status           category\n",
       "dtype: object"
      ]
     },
     "execution_count": 12,
     "metadata": {},
     "output_type": "execute_result"
    }
   ],
   "source": [
    "# view\n",
    "df.dtypes"
   ]
  },
  {
   "cell_type": "markdown",
   "id": "3d17ff97",
   "metadata": {},
   "source": [
    "### 2.2 Missing data"
   ]
  },
  {
   "cell_type": "code",
   "execution_count": 13,
   "id": "76b9207d",
   "metadata": {
    "ExecuteTime": {
     "end_time": "2022-11-09T11:02:08.390977Z",
     "start_time": "2022-11-09T11:02:08.291112Z"
    }
   },
   "outputs": [
    {
     "data": {
      "text/plain": [
       "loan_id                0\n",
       "gender                13\n",
       "married                3\n",
       "dependents            15\n",
       "education              0\n",
       "self_employed         32\n",
       "applicant_income       0\n",
       "coapplicant_income     0\n",
       "loan_amount           22\n",
       "loan_amount_term      14\n",
       "credit_history        50\n",
       "property_area          0\n",
       "loan_status            0\n",
       "dtype: int64"
      ]
     },
     "execution_count": 13,
     "metadata": {},
     "output_type": "execute_result"
    }
   ],
   "source": [
    "# Let's check for missing data.\n",
    "df.isnull().sum()"
   ]
  },
  {
   "cell_type": "markdown",
   "id": "a3166543",
   "metadata": {},
   "source": [
    "There are some missing values presents in data."
   ]
  },
  {
   "cell_type": "markdown",
   "id": "7d812756",
   "metadata": {},
   "source": [
    "### 2.3 Correlation Data  Analysis ( Categorical Variables )\n",
    "\n",
    "#### 2.3.1 Response Variable   -  Loan Status"
   ]
  },
  {
   "cell_type": "code",
   "execution_count": 14,
   "id": "e42e2f0b",
   "metadata": {
    "ExecuteTime": {
     "end_time": "2022-11-09T11:02:08.892620Z",
     "start_time": "2022-11-09T11:02:08.870595Z"
    }
   },
   "outputs": [
    {
     "data": {
      "text/plain": [
       "y    0.687296\n",
       "n    0.312704\n",
       "Name: loan_status, dtype: float64"
      ]
     },
     "execution_count": 14,
     "metadata": {},
     "output_type": "execute_result"
    }
   ],
   "source": [
    "df.loan_status.value_counts(normalize=True)"
   ]
  },
  {
   "cell_type": "code",
   "execution_count": 15,
   "id": "7fab8845",
   "metadata": {
    "ExecuteTime": {
     "end_time": "2022-11-09T11:02:09.968569Z",
     "start_time": "2022-11-09T11:02:09.065221Z"
    }
   },
   "outputs": [
    {
     "data": {
      "image/png": "[encoded data removed]",
      "text/plain": [
       "<Figure size 560x350 with 1 Axes>"
      ]
     },
     "metadata": {},
     "output_type": "display_data"
    }
   ],
   "source": [
    "# Response variable - loan_status\n",
    "# visualization\n",
    "(df.loan_status.value_counts(normalize=True) * 100).plot(kind='bar')\n",
    "\n",
    "# labels\n",
    "plt.xlabel(\"Loan Status\")\n",
    "plt.ylabel(\"Percentage\")\n",
    "plt.title(\"Imbalanced class distribution in response variable\")\n",
    "\n",
    "plt.xticks(ticks=[0, 1], labels=['yes', 'no'], rotation=0)\n",
    "plt.show()"
   ]
  },
  {
   "cell_type": "markdown",
   "id": "907e43bb",
   "metadata": {},
   "source": [
    "We can see from the above bar plot that, the distribution of classes in response variable `loan_status` is highly imbalanced as the number of instances for `y` is more than of that `n`."
   ]
  },
  {
   "cell_type": "code",
   "execution_count": 16,
   "id": "ab92cead",
   "metadata": {
    "ExecuteTime": {
     "end_time": "2022-11-09T11:02:09.984567Z",
     "start_time": "2022-11-09T11:02:09.972573Z"
    }
   },
   "outputs": [],
   "source": [
    "# Hypothesis testing for correlation in variables.\n",
    "def compute_chi2(column):\n",
    "    \"\"\"\n",
    "    compute_chi2(column):\n",
    "        function to compute the correlation between the categorical variable and response variale(y).\n",
    "    \"\"\"\n",
    "    threshold = 0.05\n",
    "    ct = pd.crosstab(df[column], df['loan_status'])    \n",
    "    result = stats.chi2_contingency(ct)\n",
    "    \n",
    "    print(\"Chi2-statistics:: \", result[0])\n",
    "    print(\"p-value:: \", result[1])\n",
    "    \n",
    "    if result[1] < threshold:\n",
    "        print(\"p-value is less than 0.05, the null hypothesis is rejected hence, %s & loan_status are dependent variables.\" %column)   \n",
    "    else:\n",
    "        print(\"p-value is greater than 0.05, which failed to reject the null hypothesis hence, %s & loan_status are Independent variables.\" %column)    "
   ]
  },
  {
   "cell_type": "markdown",
   "id": "07ad9d53",
   "metadata": {},
   "source": [
    "#### 2.3.2 Correlation - Gender & Loan Status"
   ]
  },
  {
   "cell_type": "code",
   "execution_count": 17,
   "id": "311063f5",
   "metadata": {
    "ExecuteTime": {
     "end_time": "2022-11-09T11:02:50.737307Z",
     "start_time": "2022-11-09T11:02:50.348304Z"
    },
    "scrolled": true
   },
   "outputs": [
    {
     "data": {
      "image/png": "[encoded data removed]",
      "text/plain": [
       "<Figure size 980x350 with 2 Axes>"
      ]
     },
     "metadata": {},
     "output_type": "display_data"
    }
   ],
   "source": [
    "# Gender \n",
    "\"\"\"Let's find if the `gender` of the applicant is matter in loan approval.\"\"\"\n",
    "fig, (ax1, ax2) = plt.subplots(nrows=1, ncols=2, figsize=(14, 5))\n",
    "\n",
    "# Data preparation\n",
    "a = df['gender'].value_counts() * 100 / len(df)  \n",
    "b = df.groupby(by=['gender', 'loan_status']).count()['loan_id'] * 100 / df.groupby(by=['gender']).count()['loan_id']\n",
    "\n",
    "# Visualizations\n",
    "# plot-1\n",
    "a.plot(kind='bar', ax=ax1) \n",
    "\n",
    "ax1.set_title(\"Distribution of applicants by gender\")\n",
    "ax1.set_xlabel(\"gender\")\n",
    "ax1.set_ylabel(\"percentage\")\n",
    "\n",
    "ax1.set_xticks(ticks=[0, 1], labels=['male', 'female'], rotation=0)\n",
    "\n",
    "# plot-2\n",
    "b.unstack().plot(kind='bar', ax=ax2)\n",
    "\n",
    "ax2.set_title(\"Rate of loan approval by gender\")\n",
    "ax2.set_xlabel(\"gender\")\n",
    "ax2.set_ylabel(\"percentage\")\n",
    "\n",
    "ax2.legend(labels=['no', 'yes'], title='loan_status')\n",
    "ax2.set_xticks(ticks=[0, 1], labels=['male', 'female'], rotation=0)\n",
    "\n",
    "plt.show()"
   ]
  },
  {
   "cell_type": "markdown",
   "id": "90f5af17",
   "metadata": {},
   "source": [
    "Above plot shows that, There is huge difference between the male and female applicant for loan. However, the second plot shows that, rate of accepting or rejecting the loan application for home is almost same for both male and female applicant, hence we can say that, the approval of loan does not depend on the gender of the applicant. Let's confirm this finding by performing hypothesis test. "
   ]
  },
  {
   "cell_type": "code",
   "execution_count": 18,
   "id": "f2c960f5",
   "metadata": {
    "ExecuteTime": {
     "end_time": "2022-11-09T11:02:59.867260Z",
     "start_time": "2022-11-09T11:02:59.726751Z"
    },
    "scrolled": true
   },
   "outputs": [
    {
     "name": "stdout",
     "output_type": "stream",
     "text": [
      "Chi2-statistics::  0.13962612116543877\n",
      "p-value::  0.7086529816451106\n",
      "p-value is greater than 0.05, which failed to reject the null hypothesis hence, gender & loan_status are Independent variables.\n"
     ]
    }
   ],
   "source": [
    "# Hypothesis test - 'Gender' vs. 'Loan status'\n",
    "\"\"\" Let's perform a hypothesis test using chi square to find if the `gender` of the applicant is matter in loan approval.\n",
    "    H0(null hypothesis): The loan approval does not depend on gender of the applicant.\n",
    "    H1(alternative hypothesis): The loan approval depend on gender of the applicant.\n",
    "\"\"\"\n",
    "compute_chi2('gender')"
   ]
  },
  {
   "cell_type": "markdown",
   "id": "415c7da1",
   "metadata": {},
   "source": [
    "From the above hypothesis test, we can say that the acceptance or rejections of the loan of particular applicant does not depends on their gender."
   ]
  },
  {
   "cell_type": "markdown",
   "id": "978ad692",
   "metadata": {},
   "source": [
    "#### 2.3.3 Correlation - Credit History & Loan Status"
   ]
  },
  {
   "cell_type": "code",
   "execution_count": 19,
   "id": "2f932404",
   "metadata": {
    "ExecuteTime": {
     "end_time": "2022-11-09T11:03:13.627976Z",
     "start_time": "2022-11-09T11:03:13.404164Z"
    }
   },
   "outputs": [
    {
     "data": {
      "image/png": "[encoded data removed]",
      "text/plain": [
       "<Figure size 560x350 with 1 Axes>"
      ]
     },
     "metadata": {},
     "output_type": "display_data"
    }
   ],
   "source": [
    "# Let's find the relation between credit history and loan status.\n",
    "# data preparation\n",
    "a = df.groupby(by=['credit_history', 'loan_status']).count()['loan_id']* 100 / df.groupby(by=['credit_history']).count()['loan_id']\n",
    "\n",
    "# plot\n",
    "a.unstack().plot(kind='bar')\n",
    "\n",
    "plt.title('Loan approval rate by credit history')\n",
    "plt.xlabel('credit history')\n",
    "plt.ylabel('percentage')\n",
    "\n",
    "plt.xticks(ticks=[0, 1], labels=[0, 1], rotation=0)\n",
    "plt.legend(labels=['no', 'yes'], title='loan_status')\n",
    "plt.show()"
   ]
  },
  {
   "cell_type": "markdown",
   "id": "863fcb55",
   "metadata": {},
   "source": [
    "The above plot shows high rate of loan rejection for applicant with no credit history, and high rate of loan approval for applicant with credit history. We can say that, there is higher chances for loan rejection if an applicant does not have a credit history as compare to the applicant with credit history.\n",
    "\n",
    "So, we can say that, loan approval is depends on applicant's credit history. Again, we can confirm this finding by computing the chi square hypothesis test."
   ]
  },
  {
   "cell_type": "code",
   "execution_count": 20,
   "id": "da470983",
   "metadata": {
    "ExecuteTime": {
     "end_time": "2022-11-09T11:03:17.289278Z",
     "start_time": "2022-11-09T11:03:17.269283Z"
    }
   },
   "outputs": [
    {
     "name": "stdout",
     "output_type": "stream",
     "text": [
      "Chi2-statistics::  174.63729658142535\n",
      "p-value::  7.184759548750746e-40\n",
      "p-value is less than 0.05, the null hypothesis is rejected hence, credit_history & loan_status are dependent variables.\n"
     ]
    }
   ],
   "source": [
    "# Hypothesis test - 'Credit history' vs. 'Loan status'\n",
    "\"\"\"Let's find out if there is any dependency between credit-history and loan approval.\"\"\"\n",
    "compute_chi2('credit_history')"
   ]
  },
  {
   "cell_type": "markdown",
   "id": "71f0a184",
   "metadata": {},
   "source": [
    "From the above hypothesis test, we can say that loan approval depends on credit history."
   ]
  },
  {
   "cell_type": "markdown",
   "id": "0087013a",
   "metadata": {},
   "source": [
    "#### 2.3.4 Correlation - Education & Loan Status"
   ]
  },
  {
   "cell_type": "code",
   "execution_count": 21,
   "id": "b4945812",
   "metadata": {
    "ExecuteTime": {
     "end_time": "2022-11-09T11:03:32.281178Z",
     "start_time": "2022-11-09T11:03:32.043961Z"
    }
   },
   "outputs": [
    {
     "data": {
      "image/png": "[encoded data removed]",
      "text/plain": [
       "<Figure size 560x350 with 1 Axes>"
      ]
     },
     "metadata": {},
     "output_type": "display_data"
    }
   ],
   "source": [
    "# Let's find the relation between education and loan status.\n",
    "# data preparation\n",
    "a = df.groupby(by=['education', 'loan_status']).count()['loan_id']* 100 / df.groupby(by=['education']).count()['loan_id']\n",
    "\n",
    "# plot\n",
    "a.unstack().plot(kind='bar')\n",
    "\n",
    "plt.title('Loan approval rate by education qualification')\n",
    "plt.xlabel('education')\n",
    "plt.ylabel('percentage')\n",
    "\n",
    "plt.xticks(ticks=[0, 1], rotation=0)\n",
    "plt.legend(labels=['no', 'yes'], title='loan_status')\n",
    "plt.show()"
   ]
  },
  {
   "cell_type": "markdown",
   "id": "b6f2cab1",
   "metadata": {},
   "source": [
    "Above plot shows small difference for rejecting and accepting loan application by education of an applicant. However, The rate of approval for graduate applicant is higher as compare the non-graduate applicant. Let's find out if loan approval depends on education of an applicant by hypothesis test."
   ]
  },
  {
   "cell_type": "code",
   "execution_count": 22,
   "id": "bf4594f9",
   "metadata": {
    "ExecuteTime": {
     "end_time": "2022-11-09T11:03:35.296034Z",
     "start_time": "2022-11-09T11:03:35.265033Z"
    }
   },
   "outputs": [
    {
     "name": "stdout",
     "output_type": "stream",
     "text": [
      "Chi2-statistics::  4.091490413303621\n",
      "p-value::  0.043099621293573545\n",
      "p-value is less than 0.05, the null hypothesis is rejected hence, education & loan_status are dependent variables.\n"
     ]
    }
   ],
   "source": [
    "# Hypothesis test - 'Education' vs. 'Loan status'\n",
    "\"\"\" Let's find out if there is any effect of educational background on loan approval. \"\"\"\n",
    "compute_chi2('education')"
   ]
  },
  {
   "cell_type": "markdown",
   "id": "ec1b1f92",
   "metadata": {},
   "source": [
    "The above hypothesis test says that, loan approval depends on education of an applicant."
   ]
  },
  {
   "cell_type": "markdown",
   "id": "d227b217",
   "metadata": {},
   "source": [
    "#### 2.3.5 Correlation - Property Area Type & Loan Status"
   ]
  },
  {
   "cell_type": "code",
   "execution_count": 23,
   "id": "e6dd4c29",
   "metadata": {
    "ExecuteTime": {
     "end_time": "2022-11-09T11:03:49.336446Z",
     "start_time": "2022-11-09T11:03:49.094868Z"
    }
   },
   "outputs": [
    {
     "data": {
      "image/png": "[encoded data removed]",
      "text/plain": [
       "<Figure size 560x350 with 1 Axes>"
      ]
     },
     "metadata": {},
     "output_type": "display_data"
    }
   ],
   "source": [
    "# property_area and loan status\n",
    "# data preparation\n",
    "a = df.groupby(by=['property_area', 'loan_status']).count()['loan_id']* 100 / df.groupby(by=['property_area']).count()['loan_id']\n",
    "\n",
    "# plot\n",
    "a.unstack().plot(kind='bar')\n",
    "\n",
    "plt.title('Loan approval rate by type of property area')\n",
    "plt.xlabel('property area')\n",
    "plt.ylabel('percentage')\n",
    "\n",
    "plt.xticks(ticks=[0, 1, 2], rotation=0)\n",
    "plt.legend(labels=['no', 'yes'], title='loan_status')\n",
    "plt.show()"
   ]
  },
  {
   "cell_type": "markdown",
   "id": "c9ae6237",
   "metadata": {},
   "source": [
    "We can see that, the home loan approval rate for `semi-urban` property area is higher than other two property areas. "
   ]
  },
  {
   "cell_type": "markdown",
   "id": "8cfc68c5",
   "metadata": {},
   "source": [
    "#### 2.3.6 Correlation - Self Employed & Loan Status"
   ]
  },
  {
   "cell_type": "code",
   "execution_count": 24,
   "id": "abee372d",
   "metadata": {
    "ExecuteTime": {
     "end_time": "2022-11-09T11:03:55.310654Z",
     "start_time": "2022-11-09T11:03:55.063342Z"
    }
   },
   "outputs": [
    {
     "data": {
      "image/png": "[encoded data removed]",
      "text/plain": [
       "<Figure size 560x350 with 1 Axes>"
      ]
     },
     "metadata": {},
     "output_type": "display_data"
    }
   ],
   "source": [
    "# self_employed and loan status\n",
    "# data preparation\n",
    "a = df.groupby(by=['self_employed', 'loan_status']).count()['loan_id']* 100 / df.groupby(by=['self_employed']).count()['loan_id']\n",
    "\n",
    "# plot\n",
    "a.unstack().plot(kind='bar')\n",
    "\n",
    "plt.title('Loan approval rate by self employement')\n",
    "plt.xlabel('self employee')\n",
    "plt.ylabel('percentage')\n",
    "\n",
    "plt.xticks(ticks=[0, 1, 2], rotation=0)\n",
    "plt.legend(labels=['no', 'yes'], title='loan_status')\n",
    "plt.show()"
   ]
  },
  {
   "cell_type": "markdown",
   "id": "446b46bf",
   "metadata": {},
   "source": [
    "There is no such a relation between `self_employed` and `loan_status` variables as percentage of rejection and approval of application is same for employment status of customer.\n",
    "\n",
    "Let's compute the hypothesis test for all categorical variables."
   ]
  },
  {
   "cell_type": "code",
   "execution_count": 25,
   "id": "c7f67788",
   "metadata": {
    "ExecuteTime": {
     "end_time": "2022-11-09T11:03:58.227263Z",
     "start_time": "2022-11-09T11:03:58.048912Z"
    }
   },
   "outputs": [],
   "source": [
    "# Correation between for categorical variables and loan status\n",
    "scores = []\n",
    "label = 'loan_status'\n",
    "for col in categorical_cols:\n",
    "    threshold = 0.05\n",
    "    ct = pd.crosstab(df[col], df[label])    \n",
    "    result = stats.chi2_contingency(ct)\n",
    "    scores.append((label, col, result[0], round(result[1], 5)))    "
   ]
  },
  {
   "cell_type": "code",
   "execution_count": 26,
   "id": "e812932f",
   "metadata": {
    "ExecuteTime": {
     "end_time": "2022-11-09T11:04:00.540451Z",
     "start_time": "2022-11-09T11:04:00.138541Z"
    }
   },
   "outputs": [
    {
     "data": {
      "text/html": [
       "<style type=\"text/css\">\n",
       "#T_c85a5_row1_col3, #T_c85a5_row3_col3, #T_c85a5_row5_col3, #T_c85a5_row6_col3 {\n",
       "  background-color: skyblue;\n",
       "}\n",
       "</style>\n",
       "<table id=\"T_c85a5\">\n",
       "  <thead>\n",
       "    <tr>\n",
       "      <th class=\"blank level0\" >&nbsp;</th>\n",
       "      <th id=\"T_c85a5_level0_col0\" class=\"col_heading level0 col0\" >target</th>\n",
       "      <th id=\"T_c85a5_level0_col1\" class=\"col_heading level0 col1\" >cat_feature</th>\n",
       "      <th id=\"T_c85a5_level0_col2\" class=\"col_heading level0 col2\" >chi2_stats</th>\n",
       "      <th id=\"T_c85a5_level0_col3\" class=\"col_heading level0 col3\" >p-value</th>\n",
       "    </tr>\n",
       "  </thead>\n",
       "  <tbody>\n",
       "    <tr>\n",
       "      <th id=\"T_c85a5_level0_row0\" class=\"row_heading level0 row0\" >0</th>\n",
       "      <td id=\"T_c85a5_row0_col0\" class=\"data row0 col0\" >loan_status</td>\n",
       "      <td id=\"T_c85a5_row0_col1\" class=\"data row0 col1\" >gender</td>\n",
       "      <td id=\"T_c85a5_row0_col2\" class=\"data row0 col2\" >0.139626</td>\n",
       "      <td id=\"T_c85a5_row0_col3\" class=\"data row0 col3\" >0.708650</td>\n",
       "    </tr>\n",
       "    <tr>\n",
       "      <th id=\"T_c85a5_level0_row1\" class=\"row_heading level0 row1\" >1</th>\n",
       "      <td id=\"T_c85a5_row1_col0\" class=\"data row1 col0\" >loan_status</td>\n",
       "      <td id=\"T_c85a5_row1_col1\" class=\"data row1 col1\" >married</td>\n",
       "      <td id=\"T_c85a5_row1_col2\" class=\"data row1 col2\" >4.475019</td>\n",
       "      <td id=\"T_c85a5_row1_col3\" class=\"data row1 col3\" >0.034390</td>\n",
       "    </tr>\n",
       "    <tr>\n",
       "      <th id=\"T_c85a5_level0_row2\" class=\"row_heading level0 row2\" >2</th>\n",
       "      <td id=\"T_c85a5_row2_col0\" class=\"data row2 col0\" >loan_status</td>\n",
       "      <td id=\"T_c85a5_row2_col1\" class=\"data row2 col1\" >dependents</td>\n",
       "      <td id=\"T_c85a5_row2_col2\" class=\"data row2 col2\" >3.158340</td>\n",
       "      <td id=\"T_c85a5_row2_col3\" class=\"data row2 col3\" >0.367850</td>\n",
       "    </tr>\n",
       "    <tr>\n",
       "      <th id=\"T_c85a5_level0_row3\" class=\"row_heading level0 row3\" >3</th>\n",
       "      <td id=\"T_c85a5_row3_col0\" class=\"data row3 col0\" >loan_status</td>\n",
       "      <td id=\"T_c85a5_row3_col1\" class=\"data row3 col1\" >education</td>\n",
       "      <td id=\"T_c85a5_row3_col2\" class=\"data row3 col2\" >4.091490</td>\n",
       "      <td id=\"T_c85a5_row3_col3\" class=\"data row3 col3\" >0.043100</td>\n",
       "    </tr>\n",
       "    <tr>\n",
       "      <th id=\"T_c85a5_level0_row4\" class=\"row_heading level0 row4\" >4</th>\n",
       "      <td id=\"T_c85a5_row4_col0\" class=\"data row4 col0\" >loan_status</td>\n",
       "      <td id=\"T_c85a5_row4_col1\" class=\"data row4 col1\" >self_employed</td>\n",
       "      <td id=\"T_c85a5_row4_col2\" class=\"data row4 col2\" >0.000000</td>\n",
       "      <td id=\"T_c85a5_row4_col3\" class=\"data row4 col3\" >1.000000</td>\n",
       "    </tr>\n",
       "    <tr>\n",
       "      <th id=\"T_c85a5_level0_row5\" class=\"row_heading level0 row5\" >5</th>\n",
       "      <td id=\"T_c85a5_row5_col0\" class=\"data row5 col0\" >loan_status</td>\n",
       "      <td id=\"T_c85a5_row5_col1\" class=\"data row5 col1\" >property_area</td>\n",
       "      <td id=\"T_c85a5_row5_col2\" class=\"data row5 col2\" >12.297623</td>\n",
       "      <td id=\"T_c85a5_row5_col3\" class=\"data row5 col3\" >0.002140</td>\n",
       "    </tr>\n",
       "    <tr>\n",
       "      <th id=\"T_c85a5_level0_row6\" class=\"row_heading level0 row6\" >6</th>\n",
       "      <td id=\"T_c85a5_row6_col0\" class=\"data row6 col0\" >loan_status</td>\n",
       "      <td id=\"T_c85a5_row6_col1\" class=\"data row6 col1\" >loan_status</td>\n",
       "      <td id=\"T_c85a5_row6_col2\" class=\"data row6 col2\" >609.355922</td>\n",
       "      <td id=\"T_c85a5_row6_col3\" class=\"data row6 col3\" >0.000000</td>\n",
       "    </tr>\n",
       "  </tbody>\n",
       "</table>\n"
      ],
      "text/plain": [
       "<pandas.io.formats.style.Styler at 0x1d1c4fde0d0>"
      ]
     },
     "execution_count": 26,
     "metadata": {},
     "output_type": "execute_result"
    }
   ],
   "source": [
    "corr_df = pd.DataFrame(scores, columns=['target', 'cat_feature', 'chi2_stats', 'p-value'])\n",
    "corr_df.style.highlight_between(subset=['p-value'], left=-1, right=0.05, color='skyblue')"
   ]
  },
  {
   "cell_type": "markdown",
   "id": "e30d40d8",
   "metadata": {},
   "source": [
    "### 2.4 Descriptive Correlation Analysis ( Numerical Variables )"
   ]
  },
  {
   "cell_type": "code",
   "execution_count": 27,
   "id": "48538538",
   "metadata": {
    "ExecuteTime": {
     "end_time": "2022-11-09T11:04:02.570691Z",
     "start_time": "2022-11-09T11:04:02.409462Z"
    }
   },
   "outputs": [
    {
     "data": {
      "text/html": [
       "<div>\n",
       "<style scoped>\n",
       "    .dataframe tbody tr th:only-of-type {\n",
       "        vertical-align: middle;\n",
       "    }\n",
       "\n",
       "    .dataframe tbody tr th {\n",
       "        vertical-align: top;\n",
       "    }\n",
       "\n",
       "    .dataframe thead tr th {\n",
       "        text-align: left;\n",
       "    }\n",
       "</style>\n",
       "<table border=\"1\" class=\"dataframe\">\n",
       "  <thead>\n",
       "    <tr>\n",
       "      <th></th>\n",
       "      <th colspan=\"4\" halign=\"left\">Loan status-yes</th>\n",
       "      <th colspan=\"4\" halign=\"left\">Loan status-No</th>\n",
       "    </tr>\n",
       "    <tr>\n",
       "      <th></th>\n",
       "      <th>applicant_income</th>\n",
       "      <th>coapplicant_income</th>\n",
       "      <th>loan_amount</th>\n",
       "      <th>loan_amount_term</th>\n",
       "      <th>applicant_income</th>\n",
       "      <th>coapplicant_income</th>\n",
       "      <th>loan_amount</th>\n",
       "      <th>loan_amount_term</th>\n",
       "    </tr>\n",
       "  </thead>\n",
       "  <tbody>\n",
       "    <tr>\n",
       "      <th>count</th>\n",
       "      <td>422.00</td>\n",
       "      <td>422.00</td>\n",
       "      <td>411.00</td>\n",
       "      <td>414.00</td>\n",
       "      <td>192.00</td>\n",
       "      <td>192.00</td>\n",
       "      <td>181.00</td>\n",
       "      <td>186.00</td>\n",
       "    </tr>\n",
       "    <tr>\n",
       "      <th>mean</th>\n",
       "      <td>5384.07</td>\n",
       "      <td>1504.52</td>\n",
       "      <td>144.29</td>\n",
       "      <td>341.07</td>\n",
       "      <td>5446.08</td>\n",
       "      <td>1877.81</td>\n",
       "      <td>151.22</td>\n",
       "      <td>344.06</td>\n",
       "    </tr>\n",
       "    <tr>\n",
       "      <th>std</th>\n",
       "      <td>5765.44</td>\n",
       "      <td>1924.75</td>\n",
       "      <td>85.48</td>\n",
       "      <td>63.25</td>\n",
       "      <td>6819.56</td>\n",
       "      <td>4384.06</td>\n",
       "      <td>85.86</td>\n",
       "      <td>69.24</td>\n",
       "    </tr>\n",
       "    <tr>\n",
       "      <th>min</th>\n",
       "      <td>210.00</td>\n",
       "      <td>0.00</td>\n",
       "      <td>17.00</td>\n",
       "      <td>12.00</td>\n",
       "      <td>150.00</td>\n",
       "      <td>0.00</td>\n",
       "      <td>9.00</td>\n",
       "      <td>36.00</td>\n",
       "    </tr>\n",
       "    <tr>\n",
       "      <th>25%</th>\n",
       "      <td>2877.50</td>\n",
       "      <td>0.00</td>\n",
       "      <td>100.00</td>\n",
       "      <td>360.00</td>\n",
       "      <td>2885.00</td>\n",
       "      <td>0.00</td>\n",
       "      <td>100.00</td>\n",
       "      <td>360.00</td>\n",
       "    </tr>\n",
       "    <tr>\n",
       "      <th>50%</th>\n",
       "      <td>3812.50</td>\n",
       "      <td>1239.50</td>\n",
       "      <td>126.00</td>\n",
       "      <td>360.00</td>\n",
       "      <td>3833.50</td>\n",
       "      <td>268.00</td>\n",
       "      <td>129.00</td>\n",
       "      <td>360.00</td>\n",
       "    </tr>\n",
       "    <tr>\n",
       "      <th>75%</th>\n",
       "      <td>5771.50</td>\n",
       "      <td>2297.25</td>\n",
       "      <td>161.00</td>\n",
       "      <td>360.00</td>\n",
       "      <td>5861.25</td>\n",
       "      <td>2273.75</td>\n",
       "      <td>176.00</td>\n",
       "      <td>360.00</td>\n",
       "    </tr>\n",
       "    <tr>\n",
       "      <th>max</th>\n",
       "      <td>63337.00</td>\n",
       "      <td>20000.00</td>\n",
       "      <td>700.00</td>\n",
       "      <td>480.00</td>\n",
       "      <td>81000.00</td>\n",
       "      <td>41667.00</td>\n",
       "      <td>570.00</td>\n",
       "      <td>480.00</td>\n",
       "    </tr>\n",
       "  </tbody>\n",
       "</table>\n",
       "</div>"
      ],
      "text/plain": [
       "       Loan status-yes                                                  \\\n",
       "      applicant_income coapplicant_income loan_amount loan_amount_term   \n",
       "count           422.00             422.00      411.00           414.00   \n",
       "mean           5384.07            1504.52      144.29           341.07   \n",
       "std            5765.44            1924.75       85.48            63.25   \n",
       "min             210.00               0.00       17.00            12.00   \n",
       "25%            2877.50               0.00      100.00           360.00   \n",
       "50%            3812.50            1239.50      126.00           360.00   \n",
       "75%            5771.50            2297.25      161.00           360.00   \n",
       "max           63337.00           20000.00      700.00           480.00   \n",
       "\n",
       "        Loan status-No                                                  \n",
       "      applicant_income coapplicant_income loan_amount loan_amount_term  \n",
       "count           192.00             192.00      181.00           186.00  \n",
       "mean           5446.08            1877.81      151.22           344.06  \n",
       "std            6819.56            4384.06       85.86            69.24  \n",
       "min             150.00               0.00        9.00            36.00  \n",
       "25%            2885.00               0.00      100.00           360.00  \n",
       "50%            3833.50             268.00      129.00           360.00  \n",
       "75%            5861.25            2273.75      176.00           360.00  \n",
       "max           81000.00           41667.00      570.00           480.00  "
      ]
     },
     "execution_count": 27,
     "metadata": {},
     "output_type": "execute_result"
    }
   ],
   "source": [
    "# Descriptive analysis for numerical variable\n",
    "subsets = ['applicant_income', 'coapplicant_income', 'loan_amount', 'loan_amount_term']\n",
    "yes_d = round(df.loc[df.loan_status=='y', subsets].describe(), 2)\n",
    "no_d = round(df.loc[df.loan_status=='n', subsets].describe(), 2)\n",
    "\n",
    "pd.concat([yes_d, no_d], keys=[\"Loan status-yes\", \"Loan status-No\"], axis=1)"
   ]
  },
  {
   "cell_type": "markdown",
   "id": "bd2c81cf",
   "metadata": {},
   "source": [
    "The above table shows us the descriptive summary for attribute subset by loan status. Applicant and Co-applicant income mean seems to be same for both the status.\n",
    "\n",
    "\n",
    "Let's further evaluate our findings using one-way ANOVA hypothesis test."
   ]
  },
  {
   "cell_type": "markdown",
   "id": "8bdbbf9e",
   "metadata": {},
   "source": [
    "#### 2.4.1 Correlation -  Applicant Income  &  Loan Status"
   ]
  },
  {
   "cell_type": "code",
   "execution_count": 28,
   "id": "942d9974",
   "metadata": {
    "ExecuteTime": {
     "end_time": "2022-11-09T11:04:05.220479Z",
     "start_time": "2022-11-09T11:04:05.194497Z"
    }
   },
   "outputs": [
    {
     "name": "stdout",
     "output_type": "stream",
     "text": [
      "ANOVA hypothesis test::\n",
      "F_statistics:: 0.013574218522301743\n",
      "P-value:: 0.907287812130378\n"
     ]
    }
   ],
   "source": [
    "# One way ANOVA hypothesis test.\n",
    "\"\"\"\n",
    "    Let's compute the one way anova hypothesis test,\n",
    "    H0: The mean of group of each category of loan status('y', 'n') is same.\n",
    "    H1: There is difference between these two group means.\n",
    "\"\"\"\n",
    "f_stats, p_value = stats.f_oneway(df[df.loan_status == 'y']['applicant_income'], \n",
    "                                  df[df.loan_status=='n']['applicant_income'])\n",
    "\n",
    "print(\"ANOVA hypothesis test::\")\n",
    "print(\"F_statistics::\", f_stats)\n",
    "print(\"P-value::\", p_value)"
   ]
  },
  {
   "cell_type": "markdown",
   "id": "7cf5463f",
   "metadata": {},
   "source": [
    "The above ANOVA test results of loan status has p-value which is greater than 0.05, which fail to reject the null hypothesis. This tells us that there is no statistically significant difference in means of loan status classes."
   ]
  },
  {
   "cell_type": "code",
   "execution_count": 29,
   "id": "ca712741",
   "metadata": {
    "ExecuteTime": {
     "end_time": "2022-11-09T11:08:18.145404Z",
     "start_time": "2022-11-09T11:08:17.629485Z"
    }
   },
   "outputs": [
    {
     "data": {
      "image/png": "[encoded data removed]",
      "text/plain": [
       "<Figure size 980x420 with 2 Axes>"
      ]
     },
     "metadata": {},
     "output_type": "display_data"
    }
   ],
   "source": [
    "# applicant income\n",
    "fig, (ax1, ax2) = plt.subplots(nrows=1, ncols=2, figsize=(14, 6))\n",
    "plt.subplots_adjust(wspace=0.3)\n",
    "\n",
    "sns.histplot(data=df, x='applicant_income', bins=20, kde=True, ax=ax1)\n",
    "ax1.set_title(\"Long tail distribution of income\")\n",
    "\n",
    "sns.boxplot(data=df, y='applicant_income', x='loan_status', ax=ax2)\n",
    "ax2.set_title(\"box-plot: applicant income\")\n",
    "plt.show()"
   ]
  },
  {
   "cell_type": "markdown",
   "id": "8fd2fdda",
   "metadata": {},
   "source": [
    "The above plot shows the long tail distribution for applicant income. It seems like there are some outliers present in the data. The above box plot shows, the average income of applicant for both loan status is same. "
   ]
  },
  {
   "cell_type": "markdown",
   "id": "864b2d57",
   "metadata": {},
   "source": [
    "#### 2.4.2 Correlation -  Co-applicant Income  &  Loan Status"
   ]
  },
  {
   "cell_type": "code",
   "execution_count": 30,
   "id": "32d1c783",
   "metadata": {
    "ExecuteTime": {
     "end_time": "2022-11-09T11:09:43.463725Z",
     "start_time": "2022-11-09T11:09:43.011496Z"
    },
    "scrolled": true
   },
   "outputs": [
    {
     "data": {
      "image/png": "[encoded data removed]",
      "text/plain": [
       "<Figure size 980x420 with 2 Axes>"
      ]
     },
     "metadata": {},
     "output_type": "display_data"
    }
   ],
   "source": [
    "# coapplicant income\n",
    "fig, (ax1, ax2) = plt.subplots(nrows=1, ncols=2, figsize=(14, 6))\n",
    "plt.subplots_adjust(wspace=0.3)\n",
    "\n",
    "sns.histplot(data=df, x='loan_amount', kde=True, ax=ax1)\n",
    "ax1.set_title(\"Right skewed distribution of loan amount\")\n",
    "\n",
    "sns.boxplot(data=df, y='loan_amount', x='loan_status', ax=ax2)\n",
    "ax2.set_title(\"box-plot: loan amount\")\n",
    "plt.show()"
   ]
  },
  {
   "cell_type": "markdown",
   "id": "eb990c55",
   "metadata": {},
   "source": [
    "We can that the there is right skewed distribution of `loan amount` and this box plot also shows that there is no difference between means of loan amount for both classes."
   ]
  },
  {
   "cell_type": "code",
   "execution_count": 31,
   "id": "96818c6f",
   "metadata": {
    "ExecuteTime": {
     "end_time": "2022-11-09T11:09:10.417673Z",
     "start_time": "2022-11-09T11:09:10.279496Z"
    }
   },
   "outputs": [
    {
     "data": {
      "text/html": [
       "<style type=\"text/css\">\n",
       "#T_0b0d2_row0_col0, #T_0b0d2_row1_col1, #T_0b0d2_row2_col2, #T_0b0d2_row3_col3 {\n",
       "  background-color: #023858;\n",
       "  color: #f1f1f1;\n",
       "}\n",
       "#T_0b0d2_row0_col1, #T_0b0d2_row1_col0, #T_0b0d2_row1_col3, #T_0b0d2_row3_col2 {\n",
       "  background-color: #fff7fb;\n",
       "  color: #000000;\n",
       "}\n",
       "#T_0b0d2_row0_col2 {\n",
       "  background-color: #5a9ec9;\n",
       "  color: #f1f1f1;\n",
       "}\n",
       "#T_0b0d2_row0_col3 {\n",
       "  background-color: #fdf5fa;\n",
       "  color: #000000;\n",
       "}\n",
       "#T_0b0d2_row1_col2 {\n",
       "  background-color: #e6e2ef;\n",
       "  color: #000000;\n",
       "}\n",
       "#T_0b0d2_row2_col0 {\n",
       "  background-color: #3b92c1;\n",
       "  color: #f1f1f1;\n",
       "}\n",
       "#T_0b0d2_row2_col1 {\n",
       "  background-color: #c9cee4;\n",
       "  color: #000000;\n",
       "}\n",
       "#T_0b0d2_row2_col3 {\n",
       "  background-color: #f1ebf5;\n",
       "  color: #000000;\n",
       "}\n",
       "#T_0b0d2_row3_col0 {\n",
       "  background-color: #f5eff6;\n",
       "  color: #000000;\n",
       "}\n",
       "#T_0b0d2_row3_col1 {\n",
       "  background-color: #f7f0f7;\n",
       "  color: #000000;\n",
       "}\n",
       "</style>\n",
       "<table id=\"T_0b0d2\">\n",
       "  <thead>\n",
       "    <tr>\n",
       "      <th class=\"blank level0\" >&nbsp;</th>\n",
       "      <th id=\"T_0b0d2_level0_col0\" class=\"col_heading level0 col0\" >applicant_income</th>\n",
       "      <th id=\"T_0b0d2_level0_col1\" class=\"col_heading level0 col1\" >coapplicant_income</th>\n",
       "      <th id=\"T_0b0d2_level0_col2\" class=\"col_heading level0 col2\" >loan_amount</th>\n",
       "      <th id=\"T_0b0d2_level0_col3\" class=\"col_heading level0 col3\" >loan_amount_term</th>\n",
       "    </tr>\n",
       "  </thead>\n",
       "  <tbody>\n",
       "    <tr>\n",
       "      <th id=\"T_0b0d2_level0_row0\" class=\"row_heading level0 row0\" >applicant_income</th>\n",
       "      <td id=\"T_0b0d2_row0_col0\" class=\"data row0 col0\" >1.000000</td>\n",
       "      <td id=\"T_0b0d2_row0_col1\" class=\"data row0 col1\" >-0.116605</td>\n",
       "      <td id=\"T_0b0d2_row0_col2\" class=\"data row0 col2\" >0.570909</td>\n",
       "      <td id=\"T_0b0d2_row0_col3\" class=\"data row0 col3\" >-0.045306</td>\n",
       "    </tr>\n",
       "    <tr>\n",
       "      <th id=\"T_0b0d2_level0_row1\" class=\"row_heading level0 row1\" >coapplicant_income</th>\n",
       "      <td id=\"T_0b0d2_row1_col0\" class=\"data row1 col0\" >-0.116605</td>\n",
       "      <td id=\"T_0b0d2_row1_col1\" class=\"data row1 col1\" >1.000000</td>\n",
       "      <td id=\"T_0b0d2_row1_col2\" class=\"data row1 col2\" >0.188619</td>\n",
       "      <td id=\"T_0b0d2_row1_col3\" class=\"data row1 col3\" >-0.059878</td>\n",
       "    </tr>\n",
       "    <tr>\n",
       "      <th id=\"T_0b0d2_level0_row2\" class=\"row_heading level0 row2\" >loan_amount</th>\n",
       "      <td id=\"T_0b0d2_row2_col0\" class=\"data row2 col0\" >0.570909</td>\n",
       "      <td id=\"T_0b0d2_row2_col1\" class=\"data row2 col1\" >0.188619</td>\n",
       "      <td id=\"T_0b0d2_row2_col2\" class=\"data row2 col2\" >1.000000</td>\n",
       "      <td id=\"T_0b0d2_row2_col3\" class=\"data row2 col3\" >0.039447</td>\n",
       "    </tr>\n",
       "    <tr>\n",
       "      <th id=\"T_0b0d2_level0_row3\" class=\"row_heading level0 row3\" >loan_amount_term</th>\n",
       "      <td id=\"T_0b0d2_row3_col0\" class=\"data row3 col0\" >-0.045306</td>\n",
       "      <td id=\"T_0b0d2_row3_col1\" class=\"data row3 col1\" >-0.059878</td>\n",
       "      <td id=\"T_0b0d2_row3_col2\" class=\"data row3 col2\" >0.039447</td>\n",
       "      <td id=\"T_0b0d2_row3_col3\" class=\"data row3 col3\" >1.000000</td>\n",
       "    </tr>\n",
       "  </tbody>\n",
       "</table>\n"
      ],
      "text/plain": [
       "<pandas.io.formats.style.Styler at 0x1d1af6cca90>"
      ]
     },
     "execution_count": 31,
     "metadata": {},
     "output_type": "execute_result"
    }
   ],
   "source": [
    "# Statistical description\n",
    "df[subsets].corr().style.background_gradient(axis=0)"
   ]
  },
  {
   "cell_type": "markdown",
   "id": "9de4db8d",
   "metadata": {},
   "source": [
    "The above table shows the correlation between variables, the correlation between loan amount and incomes is high."
   ]
  },
  {
   "cell_type": "code",
   "execution_count": 32,
   "id": "74313cac",
   "metadata": {
    "ExecuteTime": {
     "end_time": "2022-11-09T11:10:40.965923Z",
     "start_time": "2022-11-09T11:10:40.408955Z"
    }
   },
   "outputs": [
    {
     "data": {
      "image/png": "[encoded data removed]",
      "text/plain": [
       "<Figure size 980x420 with 2 Axes>"
      ]
     },
     "metadata": {},
     "output_type": "display_data"
    }
   ],
   "source": [
    "# Let's find out if there is linear relation between these two income variables with loan_amount.\n",
    "fig, (ax1, ax2) = plt.subplots(nrows=1, ncols=2, figsize=(14, 6))\n",
    "plt.subplots_adjust(wspace=0.3, top=0.9)\n",
    "fig.suptitle(\"Correlation - Loan amount - Applicant Income\", size=16)\n",
    "\n",
    "sns.scatterplot(data=df, x='applicant_income', y='loan_amount', hue='loan_status', ax=ax1)\n",
    "sns.scatterplot(data=df, x='coapplicant_income', y='loan_amount', hue='loan_status', ax=ax2)\n",
    "plt.show()"
   ]
  },
  {
   "cell_type": "markdown",
   "id": "6fa1e3c0",
   "metadata": {},
   "source": [
    "There is no linear relationship observed in incomes of applicant and amount of loan."
   ]
  },
  {
   "cell_type": "markdown",
   "id": "a3ceb68e",
   "metadata": {},
   "source": [
    "#### 2.4.3 Loan Amount Term"
   ]
  },
  {
   "cell_type": "code",
   "execution_count": 33,
   "id": "6ca051a9",
   "metadata": {
    "ExecuteTime": {
     "end_time": "2022-11-09T11:10:56.710791Z",
     "start_time": "2022-11-09T11:10:56.434758Z"
    }
   },
   "outputs": [
    {
     "data": {
      "image/png": "[encoded data removed]",
      "text/plain": [
       "<Figure size 560x350 with 1 Axes>"
      ]
     },
     "metadata": {},
     "output_type": "display_data"
    }
   ],
   "source": [
    "# Distribution of loan_amount_term\n",
    "sns.histplot(data=df, x='loan_amount_term')\n",
    "plt.title(\"Distribution of loan amount terms\")\n",
    "plt.xlabel(\"loan amount term\")\n",
    "plt.show()"
   ]
  },
  {
   "cell_type": "markdown",
   "id": "ee46525b",
   "metadata": {},
   "source": [
    "We can see different groups of distribution for `loan_amount_term`"
   ]
  },
  {
   "cell_type": "markdown",
   "id": "835e748d",
   "metadata": {},
   "source": [
    "## 3. Data transformation\n",
    "\n",
    "The distribution of these attributes is not Gaussian. So, let's perform a log transformation to make long tail distribution into normal distribution.\n",
    "- `applicant_income`\n",
    "- `coapplicant_income`\n",
    "- `loan_amount`"
   ]
  },
  {
   "cell_type": "code",
   "execution_count": 34,
   "id": "1c8fb997",
   "metadata": {
    "ExecuteTime": {
     "end_time": "2022-11-09T11:11:01.382229Z",
     "start_time": "2022-11-09T11:11:01.264648Z"
    }
   },
   "outputs": [],
   "source": [
    "# log transformation\n",
    "df['loan_amount'] = np.log1p(df['loan_amount'])\n",
    "df['applicant_income'] = np.log1p(df['applicant_income'])\n",
    "df['coapplicant_income'] = np.log1p(df['coapplicant_income'])"
   ]
  },
  {
   "cell_type": "code",
   "execution_count": 35,
   "id": "c3332b13",
   "metadata": {
    "ExecuteTime": {
     "end_time": "2022-11-09T11:11:15.567968Z",
     "start_time": "2022-11-09T11:11:14.827764Z"
    }
   },
   "outputs": [
    {
     "data": {
      "image/png": "[encoded data removed]",
      "text/plain": [
       "<Figure size 1050x280 with 3 Axes>"
      ]
     },
     "metadata": {},
     "output_type": "display_data"
    }
   ],
   "source": [
    "# Plot - Normal distribution after log transformation\n",
    "fig, (ax1, ax2, ax3) = plt.subplots(nrows=1, ncols=3, figsize=(15, 4))\n",
    "\n",
    "fig.suptitle(\"Normal distribution after log transformation\", size=18)\n",
    "\n",
    "sns.histplot(data=df, x='loan_amount', ax=ax1)\n",
    "sns.histplot(data=df, x='applicant_income', ax=ax2)\n",
    "sns.histplot(data=df, x='coapplicant_income', ax=ax3)\n",
    "\n",
    "plt.show()"
   ]
  },
  {
   "cell_type": "markdown",
   "id": "890fcd52",
   "metadata": {},
   "source": [
    "### 3.1 Data Pipeline - Numerical & Categorical Preprocessor\n",
    "There are some outliers and missing values present in the dataset. So, let's clean the data."
   ]
  },
  {
   "cell_type": "code",
   "execution_count": 36,
   "id": "7d2fc6a4",
   "metadata": {
    "ExecuteTime": {
     "end_time": "2022-11-09T11:11:18.682949Z",
     "start_time": "2022-11-09T11:11:18.657958Z"
    }
   },
   "outputs": [],
   "source": [
    "# numeric features\n",
    "numeric_features = ['applicant_income', 'coapplicant_income', 'loan_amount', 'loan_amount_term']\n",
    "numeric_transformer = Pipeline(\n",
    "    steps = [\n",
    "        (\"knn_imputer\", KNNImputer(n_neighbors=3)), \n",
    "        (\"scaler\", StandardScaler())\n",
    "    ]\n",
    ")\n",
    "\n",
    "# categorical features\n",
    "categorical_features = ['gender', 'married', 'self_employed', 'dependents', 'credit_history', 'education', 'property_area']\n",
    "categorical_transformer = Pipeline(\n",
    "    steps = [\n",
    "        (\"simple_imputer\", SimpleImputer(strategy='most_frequent')),\n",
    "        (\"oh_encoder\", OneHotEncoder(handle_unknown='ignore'))\n",
    "    ]\n",
    ")\n",
    "\n",
    "# preprocessors\n",
    "preprocessor = ColumnTransformer(\n",
    "    transformers = [\n",
    "        (\"num\", numeric_transformer, numeric_features),\n",
    "        (\"cat\", categorical_transformer, categorical_features),\n",
    "    ]\n",
    ")"
   ]
  },
  {
   "cell_type": "markdown",
   "id": "8d09ac74",
   "metadata": {},
   "source": [
    "#### 3.1.1 Split data into training and validation datasets"
   ]
  },
  {
   "cell_type": "code",
   "execution_count": 37,
   "id": "7740b5d2",
   "metadata": {
    "ExecuteTime": {
     "end_time": "2022-11-09T11:11:21.474463Z",
     "start_time": "2022-11-09T11:11:21.272107Z"
    }
   },
   "outputs": [],
   "source": [
    "# split the data into training and validation datasets.\n",
    "df_full, df_test = train_test_split(df, test_size=0.1, shuffle=True, stratify=df['loan_status'], random_state=42)\n",
    "df_train, df_valid = train_test_split(df_full, test_size=0.22, shuffle=True, stratify=df_full['loan_status'],random_state=42)"
   ]
  },
  {
   "cell_type": "code",
   "execution_count": 38,
   "id": "b0aceae3",
   "metadata": {
    "ExecuteTime": {
     "end_time": "2022-11-09T11:11:23.385210Z",
     "start_time": "2022-11-09T11:11:23.366184Z"
    }
   },
   "outputs": [],
   "source": [
    "# split the data into X and y\n",
    "X_train, Y_train = df_train[numeric_features + categorical_features], df_train['loan_status']\n",
    "X_val, Y_val = df_valid[numeric_features + categorical_features], df_valid['loan_status']"
   ]
  },
  {
   "cell_type": "code",
   "execution_count": 39,
   "id": "25aaeee2",
   "metadata": {
    "ExecuteTime": {
     "end_time": "2022-11-09T11:11:23.844751Z",
     "start_time": "2022-11-09T11:11:23.682141Z"
    }
   },
   "outputs": [],
   "source": [
    "# Data Transformation\n",
    "x_train = pd.DataFrame(preprocessor.fit_transform(X_train))\n",
    "y_train = (Y_train == 'y').astype('int').reset_index(drop=True)\n",
    "\n",
    "x_val = pd.DataFrame(preprocessor.transform(X_val))\n",
    "y_val = (Y_val == 'y').astype('int').reset_index(drop=True)"
   ]
  },
  {
   "cell_type": "markdown",
   "id": "e740cc5a",
   "metadata": {},
   "source": [
    "## 4. Model Development\n",
    "### 4.1 Base Model Training"
   ]
  },
  {
   "cell_type": "code",
   "execution_count": 73,
   "id": "cb3de688",
   "metadata": {
    "ExecuteTime": {
     "end_time": "2022-11-09T11:11:32.185589Z",
     "start_time": "2022-11-09T11:11:31.894767Z"
    }
   },
   "outputs": [
    {
     "name": "stdout",
     "output_type": "stream",
     "text": [
      "F1 Score:: 0.736748\n"
     ]
    }
   ],
   "source": [
    "# Base model\n",
    "model = LogisticRegression(max_iter=1000, random_state=42)\n",
    "model.fit(x_train, y_train)\n",
    "\n",
    "# prediction\n",
    "y_preds = model.predict(x_val)\n",
    "\n",
    "# model evaluation\n",
    "score = f1_score(y_val, y_preds, average='macro')\n",
    "print(\"F1 Score:: %f\" % score)"
   ]
  },
  {
   "cell_type": "markdown",
   "id": "c5b7bd04",
   "metadata": {},
   "source": [
    "### 4.2 Spot Checking for Model Training"
   ]
  },
  {
   "cell_type": "code",
   "execution_count": 41,
   "id": "0c10a0e2",
   "metadata": {
    "ExecuteTime": {
     "end_time": "2022-11-09T11:11:42.675160Z",
     "start_time": "2022-11-09T11:11:35.771947Z"
    }
   },
   "outputs": [],
   "source": [
    "# spot checking for machine learning algorithms using k-fold==10\n",
    "models = {\n",
    "    'rf_clf': RandomForestClassifier(random_state=42),\n",
    "    'lr_clf': LogisticRegression(max_iter=1000, random_state=42),\n",
    "    'gb_clf': GradientBoostingClassifier(random_state=42),\n",
    "    'cart_clf': DecisionTreeClassifier(random_state=42),\n",
    "    'knn_clf' : KNeighborsClassifier(),\n",
    "    'svc_clf' : SVC(random_state=42),\n",
    "    'xgb_clf' : XGBClassifier(random_state=42) \n",
    "}\n",
    "\n",
    "scores = []\n",
    "for name, clf in models.items():\n",
    "    CV = StratifiedKFold(n_splits=10, shuffle=True, random_state=42)\n",
    "    auc = cross_val_score(clf, x_train, y_train, cv=CV, n_jobs=-1, scoring=\"f1_macro\")\n",
    "    scores.append((name, np.mean(auc)))"
   ]
  },
  {
   "cell_type": "code",
   "execution_count": 42,
   "id": "cca667b7",
   "metadata": {
    "ExecuteTime": {
     "end_time": "2022-11-09T11:11:42.706870Z",
     "start_time": "2022-11-09T11:11:42.675160Z"
    }
   },
   "outputs": [
    {
     "data": {
      "text/html": [
       "<style type=\"text/css\">\n",
       "#T_de78a_row0_col1 {\n",
       "  background-color: yellow;\n",
       "}\n",
       "</style>\n",
       "<table id=\"T_de78a\">\n",
       "  <thead>\n",
       "    <tr>\n",
       "      <th class=\"blank level0\" >&nbsp;</th>\n",
       "      <th id=\"T_de78a_level0_col0\" class=\"col_heading level0 col0\" >model</th>\n",
       "      <th id=\"T_de78a_level0_col1\" class=\"col_heading level0 col1\" >f1score</th>\n",
       "    </tr>\n",
       "  </thead>\n",
       "  <tbody>\n",
       "    <tr>\n",
       "      <th id=\"T_de78a_level0_row0\" class=\"row_heading level0 row0\" >0</th>\n",
       "      <td id=\"T_de78a_row0_col0\" class=\"data row0 col0\" >rf_clf</td>\n",
       "      <td id=\"T_de78a_row0_col1\" class=\"data row0 col1\" >0.717190</td>\n",
       "    </tr>\n",
       "    <tr>\n",
       "      <th id=\"T_de78a_level0_row1\" class=\"row_heading level0 row1\" >5</th>\n",
       "      <td id=\"T_de78a_row1_col0\" class=\"data row1 col0\" >svc_clf</td>\n",
       "      <td id=\"T_de78a_row1_col1\" class=\"data row1 col1\" >0.715513</td>\n",
       "    </tr>\n",
       "    <tr>\n",
       "      <th id=\"T_de78a_level0_row2\" class=\"row_heading level0 row2\" >1</th>\n",
       "      <td id=\"T_de78a_row2_col0\" class=\"data row2 col0\" >lr_clf</td>\n",
       "      <td id=\"T_de78a_row2_col1\" class=\"data row2 col1\" >0.711163</td>\n",
       "    </tr>\n",
       "    <tr>\n",
       "      <th id=\"T_de78a_level0_row3\" class=\"row_heading level0 row3\" >2</th>\n",
       "      <td id=\"T_de78a_row3_col0\" class=\"data row3 col0\" >gb_clf</td>\n",
       "      <td id=\"T_de78a_row3_col1\" class=\"data row3 col1\" >0.706509</td>\n",
       "    </tr>\n",
       "    <tr>\n",
       "      <th id=\"T_de78a_level0_row4\" class=\"row_heading level0 row4\" >6</th>\n",
       "      <td id=\"T_de78a_row4_col0\" class=\"data row4 col0\" >xgb_clf</td>\n",
       "      <td id=\"T_de78a_row4_col1\" class=\"data row4 col1\" >0.678063</td>\n",
       "    </tr>\n",
       "    <tr>\n",
       "      <th id=\"T_de78a_level0_row5\" class=\"row_heading level0 row5\" >3</th>\n",
       "      <td id=\"T_de78a_row5_col0\" class=\"data row5 col0\" >cart_clf</td>\n",
       "      <td id=\"T_de78a_row5_col1\" class=\"data row5 col1\" >0.671143</td>\n",
       "    </tr>\n",
       "    <tr>\n",
       "      <th id=\"T_de78a_level0_row6\" class=\"row_heading level0 row6\" >4</th>\n",
       "      <td id=\"T_de78a_row6_col0\" class=\"data row6 col0\" >knn_clf</td>\n",
       "      <td id=\"T_de78a_row6_col1\" class=\"data row6 col1\" >0.629399</td>\n",
       "    </tr>\n",
       "  </tbody>\n",
       "</table>\n"
      ],
      "text/plain": [
       "<pandas.io.formats.style.Styler at 0x1d1c7d42f70>"
      ]
     },
     "execution_count": 42,
     "metadata": {},
     "output_type": "execute_result"
    }
   ],
   "source": [
    "pd.DataFrame(scores, columns=['model', 'f1score']).sort_values(by='f1score', ascending=False).style.highlight_max(subset=['f1score'])"
   ]
  },
  {
   "cell_type": "code",
   "execution_count": 43,
   "id": "054ac999",
   "metadata": {
    "ExecuteTime": {
     "end_time": "2022-11-09T11:11:43.101867Z",
     "start_time": "2022-11-09T11:11:42.710878Z"
    }
   },
   "outputs": [
    {
     "data": {
      "image/png": "[encoded data removed]",
      "text/plain": [
       "<Figure size 700x350 with 1 Axes>"
      ]
     },
     "metadata": {},
     "output_type": "display_data"
    }
   ],
   "source": [
    "# Data preparation\n",
    "scores = pd.DataFrame(scores, columns=['model', 'f1score'])\n",
    "\n",
    "# plots\n",
    "plt.figure(figsize=(10, 5))\n",
    "plt.plot(scores.model, scores.f1score)\n",
    "\n",
    "plt.title(\"Spot checking ML classifiers algorithm\")\n",
    "plt.xlabel(\"model\")\n",
    "plt.ylabel(\"roc_auc score\")\n",
    "\n",
    "plt.show()"
   ]
  },
  {
   "cell_type": "markdown",
   "id": "70b7de2e",
   "metadata": {},
   "source": [
    "`RandomForestClassifier`, `LogisticRegression`, `GradientBoostingClassifier` and `SupportVectorMachine` performs well, let's further evaluate the performance of these classifier by tunning different values for their parameters."
   ]
  },
  {
   "cell_type": "markdown",
   "id": "43c5d6ee",
   "metadata": {},
   "source": [
    "### 4.3 Model development - Gradient Boost Classifier"
   ]
  },
  {
   "cell_type": "code",
   "execution_count": 44,
   "id": "8bb84c3a",
   "metadata": {
    "ExecuteTime": {
     "end_time": "2022-11-09T11:11:55.414992Z",
     "start_time": "2022-11-09T11:11:43.109871Z"
    }
   },
   "outputs": [
    {
     "name": "stdout",
     "output_type": "stream",
     "text": [
      "k=2; socre=0.716992\n",
      "k=3; socre=0.675221\n",
      "k=4; socre=0.705438\n",
      "k=5; socre=0.717545\n",
      "k=6; socre=0.689805\n",
      "k=7; socre=0.712561\n",
      "k=8; socre=0.713602\n",
      "k=9; socre=0.709629\n",
      "k=10; socre=0.706509\n",
      "k=11; socre=0.723153\n",
      "k=12; socre=0.689545\n",
      "k=13; socre=0.706890\n",
      "k=14; socre=0.705796\n",
      "k=15; socre=0.709426\n",
      "k=16; socre=0.706236\n",
      "k=17; socre=0.707426\n",
      "k=18; socre=0.732977\n",
      "k=19; socre=0.700041\n"
     ]
    }
   ],
   "source": [
    "# Gradient boosting classifier\n",
    "# let's find the best k values for gradient boosting algorithm\n",
    "gb_clf = GradientBoostingClassifier(random_state=42)\n",
    "for k in range(2, 20):\n",
    "    CV = StratifiedKFold(n_splits=k, shuffle=True, random_state=42)\n",
    "    score = cross_val_score(gb_clf, x_train, y_train, cv=CV, n_jobs=-1, scoring=\"f1_macro\")\n",
    "    print(\"k=%d; socre=%f\" %(k, np.mean(score)))"
   ]
  },
  {
   "cell_type": "markdown",
   "id": "85e4ef6c",
   "metadata": {},
   "source": [
    "Gradient boosting classifier gives higher f1 score for k equals to 18, so we will further evaluate the classifier performance using this value."
   ]
  },
  {
   "cell_type": "code",
   "execution_count": 45,
   "id": "dabc9ee2",
   "metadata": {
    "ExecuteTime": {
     "end_time": "2022-11-09T11:11:55.430994Z",
     "start_time": "2022-11-09T11:11:55.418996Z"
    }
   },
   "outputs": [],
   "source": [
    "CV = StratifiedKFold(n_splits=18, shuffle=True, random_state=42)"
   ]
  },
  {
   "cell_type": "markdown",
   "id": "29c9496b",
   "metadata": {},
   "source": [
    "##### 4.3.1 Hyper-parameter Tunning\n",
    "**1. parameter - n_estimator**"
   ]
  },
  {
   "cell_type": "code",
   "execution_count": 46,
   "id": "c1f6ec93",
   "metadata": {
    "ExecuteTime": {
     "end_time": "2022-11-09T11:12:45.623869Z",
     "start_time": "2022-11-09T11:11:55.440998Z"
    }
   },
   "outputs": [
    {
     "name": "stdout",
     "output_type": "stream",
     "text": [
      "n_estimator=100, socre=0.732977, std=(+-0.092)\n",
      "n_estimator=200, socre=0.702315, std=(+-0.090)\n",
      "n_estimator=300, socre=0.692328, std=(+-0.088)\n",
      "n_estimator=400, socre=0.691274, std=(+-0.080)\n",
      "n_estimator=500, socre=0.681491, std=(+-0.085)\n",
      "n_estimator=600, socre=0.685670, std=(+-0.084)\n",
      "n_estimator=700, socre=0.689376, std=(+-0.083)\n",
      "n_estimator=800, socre=0.689376, std=(+-0.083)\n",
      "n_estimator=900, socre=0.688757, std=(+-0.077)\n"
     ]
    }
   ],
   "source": [
    "# n_estimators\n",
    "for n in range(100, 1000, 100):\n",
    "    gb_clf = GradientBoostingClassifier(n_estimators=n, random_state=42)\n",
    "    score = cross_val_score(gb_clf, x_train, y_train, cv=CV, n_jobs=-1, scoring=\"f1_macro\")\n",
    "    print(\"n_estimator=%d, socre=%f, std=(+-%.3f)\" %(n, np.mean(score), np.std(score)))"
   ]
  },
  {
   "cell_type": "markdown",
   "id": "4ddb4bdf",
   "metadata": {},
   "source": [
    "**2. parameter - learning_rate**"
   ]
  },
  {
   "cell_type": "code",
   "execution_count": 47,
   "id": "21c01877",
   "metadata": {
    "ExecuteTime": {
     "end_time": "2022-11-09T11:13:45.359736Z",
     "start_time": "2022-11-09T11:12:45.623869Z"
    }
   },
   "outputs": [
    {
     "name": "stdout",
     "output_type": "stream",
     "text": [
      "n_estimator=100, alpha=0.010000, socre=0.716413 , std=(+-0.079)\n",
      "n_estimator=100, alpha=0.020000, socre=0.717663 , std=(+-0.093)\n",
      "n_estimator=100, alpha=0.030000, socre=0.731752 , std=(+-0.092)\n",
      "n_estimator=150, alpha=0.010000, socre=0.715791 , std=(+-0.086)\n",
      "n_estimator=150, alpha=0.020000, socre=0.731752 , std=(+-0.092)\n",
      "n_estimator=150, alpha=0.030000, socre=0.730168 , std=(+-0.094)\n",
      "n_estimator=200, alpha=0.010000, socre=0.720787 , std=(+-0.097)\n",
      "n_estimator=200, alpha=0.020000, socre=0.728341 , std=(+-0.094)\n",
      "n_estimator=200, alpha=0.030000, socre=0.736185 , std=(+-0.089)\n",
      "n_estimator=250, alpha=0.010000, socre=0.720787 , std=(+-0.097)\n",
      "n_estimator=250, alpha=0.020000, socre=0.732041 , std=(+-0.087)\n",
      "n_estimator=250, alpha=0.030000, socre=0.743755 , std=(+-0.089)\n",
      "n_estimator=300, alpha=0.010000, socre=0.731752 , std=(+-0.092)\n",
      "n_estimator=300, alpha=0.020000, socre=0.736185 , std=(+-0.089)\n",
      "n_estimator=300, alpha=0.030000, socre=0.739606 , std=(+-0.091)\n",
      "n_estimator=350, alpha=0.010000, socre=0.734545 , std=(+-0.091)\n",
      "n_estimator=350, alpha=0.020000, socre=0.733662 , std=(+-0.084)\n",
      "n_estimator=350, alpha=0.030000, socre=0.736425 , std=(+-0.093)\n",
      "n_estimator=400, alpha=0.010000, socre=0.728341 , std=(+-0.094)\n",
      "n_estimator=400, alpha=0.020000, socre=0.741184 , std=(+-0.087)\n",
      "n_estimator=400, alpha=0.030000, socre=0.728718 , std=(+-0.085)\n",
      "n_estimator=450, alpha=0.010000, socre=0.732582 , std=(+-0.096)\n",
      "n_estimator=450, alpha=0.020000, socre=0.738878 , std=(+-0.087)\n",
      "n_estimator=450, alpha=0.030000, socre=0.728718 , std=(+-0.085)\n"
     ]
    }
   ],
   "source": [
    "# learning rate == 250 - 0.04\n",
    "for n in range(100, 500, 50):\n",
    "    for alpha in [0.01, 0.02, 0.03]:\n",
    "        gb_clf = GradientBoostingClassifier(n_estimators=n, learning_rate=alpha, random_state=42)\n",
    "        score = cross_val_score(gb_clf, x_train, y_train, cv=CV, n_jobs=-1, scoring=\"f1_macro\")\n",
    "        print(\"n_estimator=%d, alpha=%f, socre=%f , std=(+-%.3f)\" %(n, alpha, np.mean(score),np.std(score)))"
   ]
  },
  {
   "cell_type": "markdown",
   "id": "ad4c525c",
   "metadata": {},
   "source": [
    "**2. parameter - max_depth**"
   ]
  },
  {
   "cell_type": "code",
   "execution_count": 48,
   "id": "a0f7413d",
   "metadata": {
    "ExecuteTime": {
     "end_time": "2022-11-09T11:15:44.050429Z",
     "start_time": "2022-11-09T11:13:45.359736Z"
    }
   },
   "outputs": [
    {
     "name": "stdout",
     "output_type": "stream",
     "text": [
      "max-depth=2, socre=0.725581, std=(+-0.085)\n",
      "max-depth=3, socre=0.743755, std=(+-0.089)\n",
      "max-depth=5, socre=0.696085, std=(+-0.095)\n",
      "max-depth=7, socre=0.687195, std=(+-0.093)\n",
      "max-depth=8, socre=0.689088, std=(+-0.099)\n",
      "max-depth=9, socre=0.693178, std=(+-0.089)\n",
      "max-depth=10, socre=0.694200, std=(+-0.084)\n",
      "max-depth=11, socre=0.680285, std=(+-0.093)\n",
      "max-depth=13, socre=0.655551, std=(+-0.098)\n",
      "max-depth=15, socre=0.666783, std=(+-0.098)\n",
      "max-depth=17, socre=0.669713, std=(+-0.100)\n",
      "max-depth=19, socre=0.659764, std=(+-0.101)\n"
     ]
    }
   ],
   "source": [
    "# max_depth == 3\n",
    "for depth in [2, 3, 5, 7, 8, 9, 10, 11, 13, 15, 17, 19]:\n",
    "    gb_clf = GradientBoostingClassifier(n_estimators=250, learning_rate=0.03, max_depth=depth, random_state=42)\n",
    "    score = cross_val_score(gb_clf, x_train, y_train, cv=CV, n_jobs=-1, scoring=\"f1_macro\")\n",
    "    print(\"max-depth=%d, socre=%f, std=(+-%.3f)\" %(depth, np.mean(score), np.std(score)))"
   ]
  },
  {
   "cell_type": "markdown",
   "id": "ce01cb57",
   "metadata": {},
   "source": [
    "**3. parameter -  min_samples_split**"
   ]
  },
  {
   "cell_type": "code",
   "execution_count": 49,
   "id": "7b48f91b",
   "metadata": {
    "ExecuteTime": {
     "end_time": "2022-11-09T11:15:53.691046Z",
     "start_time": "2022-11-09T11:15:44.050429Z"
    }
   },
   "outputs": [
    {
     "name": "stdout",
     "output_type": "stream",
     "text": [
      "min-samples=50, socre=0.734087, std=(+-0.084)\n",
      "min-samples=100, socre=0.729451, std=(+-0.078)\n",
      "min-samples=200, socre=0.736340, std=(+-0.081)\n",
      "min-samples=300, socre=0.721427, std=(+-0.094)\n",
      "min-samples=400, socre=0.719346, std=(+-0.090)\n"
     ]
    }
   ],
   "source": [
    "# min_samples_split = 200\n",
    "for samples in [50, 100, 200, 300, 400]:\n",
    "    gb_clf = GradientBoostingClassifier(n_estimators=250, learning_rate=0.03, max_depth=3, min_samples_split=samples, random_state=42)\n",
    "    score = cross_val_score(gb_clf, x_train, y_train, cv=CV, n_jobs=-1, scoring=\"f1_macro\")\n",
    "    print(\"min-samples=%d, socre=%f, std=(+-%.3f)\" %(samples, np.mean(score), np.std(score)))"
   ]
  },
  {
   "cell_type": "markdown",
   "id": "b4bf1e3b",
   "metadata": {},
   "source": [
    "**4. parameter - min_samples_leaf**"
   ]
  },
  {
   "cell_type": "code",
   "execution_count": 50,
   "id": "cb74788a",
   "metadata": {
    "ExecuteTime": {
     "end_time": "2022-11-09T11:16:02.831685Z",
     "start_time": "2022-11-09T11:15:53.691046Z"
    }
   },
   "outputs": [
    {
     "name": "stdout",
     "output_type": "stream",
     "text": [
      "min-samples-leaf=10, socre=0.723544, std=(+-0.077)\n",
      "min-samples-leaf=30, socre=0.717595, std=(+-0.076)\n",
      "min-samples-leaf=50, socre=0.725506, std=(+-0.097)\n",
      "min-samples-leaf=70, socre=0.436216, std=(+-0.079)\n",
      "min-samples-leaf=100, socre=0.427647, std=(+-0.055)\n"
     ]
    }
   ],
   "source": [
    "# min_samples_leaf == 50\n",
    "for samples in [10, 30, 50, 70, 100]:\n",
    "    gb_clf = GradientBoostingClassifier(n_estimators=250, learning_rate=0.03, max_depth=3, min_samples_split=200, min_samples_leaf=samples, random_state=42)\n",
    "    score = cross_val_score(gb_clf, x_train, y_train, cv=CV, n_jobs=-1, scoring=\"f1_macro\")\n",
    "    print(\"min-samples-leaf=%d, socre=%f, std=(+-%.3f)\" %(samples, np.mean(score), np.std(score)))"
   ]
  },
  {
   "cell_type": "markdown",
   "id": "76ec1c36",
   "metadata": {},
   "source": [
    "**5. parameter - max_features**"
   ]
  },
  {
   "cell_type": "code",
   "execution_count": 51,
   "id": "6bbb84e8",
   "metadata": {
    "ExecuteTime": {
     "end_time": "2022-11-09T11:16:17.909801Z",
     "start_time": "2022-11-09T11:16:02.831685Z"
    }
   },
   "outputs": [
    {
     "name": "stdout",
     "output_type": "stream",
     "text": [
      "min-features=5, socre=0.722482, std=(+-0.080)\n",
      "min-features=7, socre=0.715930, std=(+-0.086)\n",
      "min-features=9, socre=0.718609, std=(+-0.085)\n",
      "min-features=11, socre=0.725506, std=(+-0.097)\n",
      "min-features=13, socre=0.725506, std=(+-0.097)\n",
      "min-features=15, socre=0.725506, std=(+-0.097)\n",
      "min-features=17, socre=0.725506, std=(+-0.097)\n",
      "min-features=19, socre=0.727500, std=(+-0.095)\n",
      "min-features=21, socre=0.725506, std=(+-0.097)\n"
     ]
    }
   ],
   "source": [
    "# max_features == 11\n",
    "for features in range(5, 22, 2):\n",
    "    gb_clf = GradientBoostingClassifier(n_estimators=250, \n",
    "                                        learning_rate=0.03, \n",
    "                                        max_depth=3, \n",
    "                                        min_samples_split=200, \n",
    "                                        min_samples_leaf=50,\n",
    "                                        max_features=features,\n",
    "                                        random_state=42)\n",
    "    score = cross_val_score(gb_clf, x_train, y_train, cv=CV, n_jobs=-1, scoring=\"f1_macro\")\n",
    "    print(\"min-features=%d, socre=%f, std=(+-%.3f)\" %(features, np.mean(score), np.std(score)))\n",
    "    "
   ]
  },
  {
   "cell_type": "markdown",
   "id": "159fe33c",
   "metadata": {},
   "source": [
    "**Final Model Gradient boosting classifier**"
   ]
  },
  {
   "cell_type": "code",
   "execution_count": 52,
   "id": "f26c1efd",
   "metadata": {
    "ExecuteTime": {
     "end_time": "2022-11-09T11:16:18.144182Z",
     "start_time": "2022-11-09T11:16:17.909801Z"
    }
   },
   "outputs": [
    {
     "name": "stdout",
     "output_type": "stream",
     "text": [
      "f-score::0.778986\n"
     ]
    }
   ],
   "source": [
    "gb_clf = GradientBoostingClassifier(n_estimators=250, \n",
    "                                    learning_rate=0.03, \n",
    "                                    max_depth=3, \n",
    "                                    min_samples_split=200, \n",
    "                                    min_samples_leaf=50,\n",
    "                                    max_features=11,\n",
    "                                    warm_start=True,\n",
    "                                    random_state=42\n",
    "                                   )\n",
    "\n",
    "gb_clf.fit(x_train, y_train)\n",
    "y_preds = gb_clf.predict(x_val)\n",
    "score = f1_score(y_val, y_preds, average='macro')\n",
    "print(\"f-score::%f\" %score)"
   ]
  },
  {
   "cell_type": "markdown",
   "id": "639dbf16",
   "metadata": {},
   "source": [
    "#### 4.4 Model development - Support Vector Machine Classifier\n",
    "\n",
    "##### 4.4.1 Best K-fold for SVC"
   ]
  },
  {
   "cell_type": "code",
   "execution_count": 53,
   "id": "2e3a9a92",
   "metadata": {
    "ExecuteTime": {
     "end_time": "2022-11-09T11:16:19.886840Z",
     "start_time": "2022-11-09T11:16:18.144182Z"
    }
   },
   "outputs": [
    {
     "name": "stdout",
     "output_type": "stream",
     "text": [
      "k=2; socre=0.701845\n",
      "k=3; socre=0.721855\n",
      "k=4; socre=0.716689\n",
      "k=5; socre=0.721990\n",
      "k=6; socre=0.714814\n",
      "k=7; socre=0.716655\n",
      "k=8; socre=0.718014\n",
      "k=9; socre=0.718799\n",
      "k=10; socre=0.715513\n",
      "k=11; socre=0.713915\n",
      "k=12; socre=0.716468\n",
      "k=13; socre=0.710981\n",
      "k=14; socre=0.709537\n",
      "k=15; socre=0.708144\n",
      "k=16; socre=0.712611\n",
      "k=17; socre=0.705664\n",
      "k=18; socre=0.716343\n",
      "k=19; socre=0.709951\n"
     ]
    }
   ],
   "source": [
    "# Support Vector machine classifier\n",
    "# let's find the best k values for further evaluation\n",
    "svc_clf = SVC(random_state=42)\n",
    "for k in range(2, 20):\n",
    "    CV = StratifiedKFold(n_splits=k, shuffle=True, random_state=42)\n",
    "    score = cross_val_score(svc_clf, x_train, y_train, cv=CV, n_jobs=-1, scoring=\"f1_macro\")\n",
    "    print(\"k=%d; socre=%f\" %(k, np.mean(score)))"
   ]
  },
  {
   "cell_type": "code",
   "execution_count": 54,
   "id": "ea78a918",
   "metadata": {
    "ExecuteTime": {
     "end_time": "2022-11-09T11:16:19.902467Z",
     "start_time": "2022-11-09T11:16:19.886840Z"
    }
   },
   "outputs": [],
   "source": [
    "CV = StratifiedKFold(n_splits=8, shuffle=True, random_state=42)"
   ]
  },
  {
   "cell_type": "markdown",
   "id": "c761f0e9",
   "metadata": {},
   "source": [
    "##### 4.4.2 Hyper-parameter Tunning\n",
    "**1. parameter - C**"
   ]
  },
  {
   "cell_type": "code",
   "execution_count": 55,
   "id": "1a5c507b",
   "metadata": {
    "ExecuteTime": {
     "end_time": "2022-11-09T11:16:20.949340Z",
     "start_time": "2022-11-09T11:16:19.902467Z"
    }
   },
   "outputs": [
    {
     "name": "stdout",
     "output_type": "stream",
     "text": [
      "C=1; socre=0.718014, std=0.065\n",
      "C=3; socre=0.727124, std=0.066\n",
      "C=5; socre=0.712077, std=0.050\n",
      "C=7; socre=0.699171, std=0.050\n",
      "C=9; socre=0.684538, std=0.045\n",
      "C=11; socre=0.674379, std=0.050\n",
      "C=15; socre=0.661965, std=0.051\n",
      "C=20; socre=0.637812, std=0.052\n",
      "C=30; socre=0.633902, std=0.052\n",
      "C=50; socre=0.639668, std=0.049\n",
      "C=100; socre=0.639681, std=0.052\n"
     ]
    }
   ],
   "source": [
    "# C == 3\n",
    "for c in [1, 3, 5, 7, 9, 11, 15, 20, 30, 50, 100]:\n",
    "    svc_clf = SVC(C=c, random_state=42)\n",
    "    score = cross_val_score(svc_clf, x_train, y_train, cv=CV, n_jobs=-1, scoring=\"f1_macro\")\n",
    "    print(\"C=%d; socre=%f, std=%.3f\" %(c, np.mean(score), np.std(score)))"
   ]
  },
  {
   "cell_type": "markdown",
   "id": "b028cabe",
   "metadata": {},
   "source": [
    "**2. parameter - gamma**"
   ]
  },
  {
   "cell_type": "code",
   "execution_count": 56,
   "id": "1d83f171",
   "metadata": {
    "ExecuteTime": {
     "end_time": "2022-11-09T11:16:21.277467Z",
     "start_time": "2022-11-09T11:16:20.949340Z"
    }
   },
   "outputs": [
    {
     "name": "stdout",
     "output_type": "stream",
     "text": [
      "gamma=1.000000; socre=0.563662, std=0.045\n",
      "gamma=0.100000; socre=0.732151, std=0.071\n",
      "gamma=0.010000; socre=0.721004, std=0.065\n",
      "gamma=0.001000; socre=0.406896, std=0.002\n"
     ]
    }
   ],
   "source": [
    "# gamma == 0.1\n",
    "for g in [1, 0.1, 0.01, 0.001]:\n",
    "    svc_clf = SVC(C=3, gamma=g, random_state=42)\n",
    "    score = cross_val_score(svc_clf, x_train, y_train, cv=CV, n_jobs=-1, scoring=\"f1_macro\")\n",
    "    print(\"gamma=%f; socre=%f, std=%.3f\" %(g, np.mean(score), np.std(score)))"
   ]
  },
  {
   "cell_type": "markdown",
   "id": "90b280f8",
   "metadata": {},
   "source": [
    "**3. parameter - degree**"
   ]
  },
  {
   "cell_type": "code",
   "execution_count": 57,
   "id": "a6d94acd",
   "metadata": {
    "ExecuteTime": {
     "end_time": "2022-11-09T11:16:22.168095Z",
     "start_time": "2022-11-09T11:16:21.277467Z"
    }
   },
   "outputs": [
    {
     "name": "stdout",
     "output_type": "stream",
     "text": [
      "degree=1; socre=0.721004, std=0.065\n",
      "degree=2; socre=0.713049, std=0.070\n",
      "degree=3; socre=0.724677, std=0.058\n",
      "degree=4; socre=0.698645, std=0.051\n",
      "degree=5; socre=0.694915, std=0.062\n",
      "degree=6; socre=0.669665, std=0.057\n",
      "degree=7; socre=0.669638, std=0.056\n",
      "degree=9; socre=0.628756, std=0.034\n",
      "degree=10; socre=0.601948, std=0.054\n"
     ]
    }
   ],
   "source": [
    "# degree == 2\n",
    "for d in [1, 2, 3, 4, 5, 6, 7, 9, 10]:\n",
    "    svc_clf = SVC(C=3, kernel='poly', gamma=0.1, degree=d, random_state=42)\n",
    "    score = cross_val_score(svc_clf, x_train, y_train, cv=CV, n_jobs=-1, scoring=\"f1_macro\")\n",
    "    print(\"degree=%d; socre=%f, std=%.3f\" %(d, np.mean(score), np.std(score)))"
   ]
  },
  {
   "cell_type": "markdown",
   "id": "8a4d0ba5",
   "metadata": {},
   "source": [
    "**4. parameter - kernel**"
   ]
  },
  {
   "cell_type": "code",
   "execution_count": 58,
   "id": "a92b754c",
   "metadata": {
    "ExecuteTime": {
     "end_time": "2022-11-09T11:16:22.464967Z",
     "start_time": "2022-11-09T11:16:22.168095Z"
    }
   },
   "outputs": [
    {
     "name": "stdout",
     "output_type": "stream",
     "text": [
      "kernel=linear; socre=0.721004, std=0.065\n",
      "kernel=poly; socre=0.724677, std=0.058\n",
      "kernel=rbf; socre=0.732151, std=0.071\n",
      "kernel=sigmoid; socre=0.669926, std=0.060\n"
     ]
    }
   ],
   "source": [
    "# kernel == 2\n",
    "for kr in ['linear', 'poly', 'rbf', 'sigmoid'] :\n",
    "    svc_clf = SVC(C=3, kernel=kr, gamma=0.1, random_state=42)\n",
    "    score = cross_val_score(svc_clf, x_train, y_train, cv=CV, n_jobs=-1, scoring=\"f1_macro\")\n",
    "    print(\"kernel=%s; socre=%f, std=%.3f\" %(kr, np.mean(score), np.std(score)))"
   ]
  },
  {
   "cell_type": "markdown",
   "id": "97362b73",
   "metadata": {},
   "source": [
    "**Final Model SVC**"
   ]
  },
  {
   "cell_type": "code",
   "execution_count": 59,
   "id": "e3ac8b80",
   "metadata": {
    "ExecuteTime": {
     "end_time": "2022-11-09T11:16:22.511843Z",
     "start_time": "2022-11-09T11:16:22.464967Z"
    }
   },
   "outputs": [
    {
     "name": "stdout",
     "output_type": "stream",
     "text": [
      "score::0.726776\n"
     ]
    }
   ],
   "source": [
    "# final model \n",
    "svc = SVC(C=3, gamma=0.1, random_state=42)\n",
    "svc.fit(x_train, y_train)\n",
    "y_preds = svc.predict(x_val)\n",
    "print(\"score::%f\" %f1_score(y_val, y_preds, average='macro'))"
   ]
  },
  {
   "cell_type": "markdown",
   "id": "66b94f3e",
   "metadata": {},
   "source": [
    "#### 4.5 Model development - Random Forest Classifier\n",
    "\n",
    "##### 4.5.1 Best K-fold for SVC"
   ]
  },
  {
   "cell_type": "code",
   "execution_count": 60,
   "id": "45b50fbb",
   "metadata": {
    "ExecuteTime": {
     "end_time": "2022-11-09T11:16:41.621232Z",
     "start_time": "2022-11-09T11:16:22.511843Z"
    }
   },
   "outputs": [
    {
     "name": "stdout",
     "output_type": "stream",
     "text": [
      "K-fold=2, socre=0.706562, std=0.022\n",
      "K-fold=3, socre=0.701173, std=0.048\n",
      "K-fold=4, socre=0.715985, std=0.024\n",
      "K-fold=5, socre=0.708743, std=0.069\n",
      "K-fold=6, socre=0.708265, std=0.051\n",
      "K-fold=7, socre=0.716652, std=0.055\n",
      "K-fold=8, socre=0.719051, std=0.050\n",
      "K-fold=9, socre=0.705722, std=0.056\n",
      "K-fold=10, socre=0.717190, std=0.075\n",
      "K-fold=11, socre=0.719744, std=0.072\n",
      "K-fold=12, socre=0.716996, std=0.075\n",
      "K-fold=13, socre=0.717239, std=0.080\n",
      "K-fold=14, socre=0.718409, std=0.074\n",
      "K-fold=15, socre=0.723055, std=0.080\n",
      "K-fold=16, socre=0.717702, std=0.084\n",
      "K-fold=17, socre=0.717298, std=0.114\n",
      "K-fold=18, socre=0.712053, std=0.098\n",
      "K-fold=19, socre=0.717887, std=0.113\n"
     ]
    }
   ],
   "source": [
    "# RandomForestClassifier k = 15\n",
    "RF_clf = RandomForestClassifier(random_state=42)\n",
    "for k in range(2, 20):\n",
    "    CV = StratifiedKFold(n_splits=k, shuffle=True, random_state=42)\n",
    "    score = cross_val_score(RF_clf, x_train, y_train, cv=CV, n_jobs=-1, scoring=\"f1_macro\")\n",
    "    print(\"K-fold=%d, socre=%f, std=%.3f\" %(k, np.mean(score), np.std(score)))"
   ]
  },
  {
   "cell_type": "code",
   "execution_count": 61,
   "id": "30ae29f0",
   "metadata": {
    "ExecuteTime": {
     "end_time": "2022-11-09T11:16:41.636846Z",
     "start_time": "2022-11-09T11:16:41.621232Z"
    }
   },
   "outputs": [],
   "source": [
    "CV = StratifiedKFold(n_splits=15, shuffle=True, random_state=42)"
   ]
  },
  {
   "cell_type": "markdown",
   "id": "163099f9",
   "metadata": {},
   "source": [
    "##### 4.5.2 Hyper-parameter Tunning\n",
    "**1. parameter - n_estimators**"
   ]
  },
  {
   "cell_type": "code",
   "execution_count": 62,
   "id": "679b1ac0",
   "metadata": {
    "ExecuteTime": {
     "end_time": "2022-11-09T11:16:57.259708Z",
     "start_time": "2022-11-09T11:16:41.636846Z"
    }
   },
   "outputs": [
    {
     "name": "stdout",
     "output_type": "stream",
     "text": [
      "n_estimator=200, socre=0.724482, std=0.085\n",
      "n_estimator=250, socre=0.729259, std=0.085\n",
      "n_estimator=300, socre=0.722765, std=0.091\n",
      "n_estimator=350, socre=0.717182, std=0.094\n"
     ]
    }
   ],
   "source": [
    "# n_estimators == 250\n",
    "for n in range(200, 400, 50):\n",
    "    RF_clf = RandomForestClassifier(n_estimators=n, random_state=42)\n",
    "    score = cross_val_score(RF_clf, x_train, y_train, cv=CV, n_jobs=-1, scoring=\"f1_macro\")\n",
    "    print(\"n_estimator=%d, socre=%f, std=%.3f\" %(n, np.mean(score), np.std(score)))"
   ]
  },
  {
   "cell_type": "markdown",
   "id": "4a7ba47f",
   "metadata": {},
   "source": [
    "**2. parameter - n_estimators & max_depth**"
   ]
  },
  {
   "cell_type": "code",
   "execution_count": 63,
   "id": "752fef01",
   "metadata": {
    "ExecuteTime": {
     "end_time": "2022-11-09T11:21:42.097797Z",
     "start_time": "2022-11-09T11:16:57.259708Z"
    }
   },
   "outputs": [
    {
     "name": "stdout",
     "output_type": "stream",
     "text": [
      "n_estimator=10, depth=5, socre=0.712612, std=0.097\n",
      "n_estimator=10, depth=7, socre=0.711606, std=0.075\n",
      "n_estimator=10, depth=9, socre=0.734496, std=0.088\n",
      "n_estimator=10, depth=8, socre=0.720620, std=0.096\n",
      "n_estimator=10, depth=10, socre=0.710200, std=0.078\n",
      "n_estimator=10, depth=11, socre=0.724541, std=0.082\n",
      "n_estimator=10, depth=12, socre=0.718467, std=0.085\n",
      "n_estimator=10, depth=13, socre=0.703423, std=0.085\n",
      "n_estimator=10, depth=15, socre=0.721050, std=0.085\n",
      "n_estimator=60, depth=5, socre=0.719063, std=0.085\n",
      "n_estimator=60, depth=7, socre=0.721753, std=0.086\n",
      "n_estimator=60, depth=9, socre=0.733138, std=0.095\n",
      "n_estimator=60, depth=8, socre=0.723997, std=0.095\n",
      "n_estimator=60, depth=10, socre=0.732262, std=0.085\n",
      "n_estimator=60, depth=11, socre=0.720391, std=0.088\n",
      "n_estimator=60, depth=12, socre=0.725717, std=0.092\n",
      "n_estimator=60, depth=13, socre=0.717216, std=0.080\n",
      "n_estimator=60, depth=15, socre=0.723070, std=0.088\n",
      "n_estimator=110, depth=5, socre=0.716341, std=0.089\n",
      "n_estimator=110, depth=7, socre=0.722043, std=0.091\n",
      "n_estimator=110, depth=9, socre=0.731445, std=0.094\n",
      "n_estimator=110, depth=8, socre=0.721638, std=0.086\n",
      "n_estimator=110, depth=10, socre=0.734888, std=0.075\n",
      "n_estimator=110, depth=11, socre=0.740725, std=0.080\n",
      "n_estimator=110, depth=12, socre=0.728358, std=0.101\n",
      "n_estimator=110, depth=13, socre=0.721141, std=0.102\n",
      "n_estimator=110, depth=15, socre=0.737615, std=0.093\n",
      "n_estimator=160, depth=5, socre=0.716341, std=0.089\n",
      "n_estimator=160, depth=7, socre=0.726626, std=0.092\n",
      "n_estimator=160, depth=9, socre=0.729316, std=0.088\n",
      "n_estimator=160, depth=8, socre=0.724199, std=0.090\n",
      "n_estimator=160, depth=10, socre=0.727419, std=0.080\n",
      "n_estimator=160, depth=11, socre=0.736143, std=0.080\n",
      "n_estimator=160, depth=12, socre=0.720161, std=0.096\n",
      "n_estimator=160, depth=13, socre=0.729533, std=0.091\n",
      "n_estimator=160, depth=15, socre=0.733747, std=0.086\n",
      "n_estimator=210, depth=5, socre=0.716341, std=0.089\n",
      "n_estimator=210, depth=7, socre=0.726626, std=0.092\n",
      "n_estimator=210, depth=9, socre=0.726692, std=0.091\n",
      "n_estimator=210, depth=8, socre=0.721638, std=0.086\n",
      "n_estimator=210, depth=10, socre=0.727419, std=0.080\n",
      "n_estimator=210, depth=11, socre=0.733288, std=0.085\n",
      "n_estimator=210, depth=12, socre=0.723924, std=0.091\n",
      "n_estimator=210, depth=13, socre=0.724216, std=0.093\n",
      "n_estimator=210, depth=15, socre=0.731897, std=0.082\n",
      "n_estimator=260, depth=5, socre=0.714178, std=0.090\n",
      "n_estimator=260, depth=7, socre=0.721654, std=0.086\n",
      "n_estimator=260, depth=9, socre=0.728126, std=0.090\n",
      "n_estimator=260, depth=8, socre=0.721638, std=0.086\n",
      "n_estimator=260, depth=10, socre=0.722257, std=0.085\n",
      "n_estimator=260, depth=11, socre=0.735699, std=0.087\n",
      "n_estimator=260, depth=12, socre=0.722081, std=0.094\n",
      "n_estimator=260, depth=13, socre=0.723924, std=0.091\n",
      "n_estimator=260, depth=15, socre=0.729372, std=0.090\n",
      "n_estimator=310, depth=5, socre=0.714178, std=0.090\n",
      "n_estimator=310, depth=7, socre=0.719632, std=0.088\n",
      "n_estimator=310, depth=9, socre=0.714858, std=0.086\n",
      "n_estimator=310, depth=8, socre=0.723913, std=0.087\n",
      "n_estimator=310, depth=10, socre=0.718287, std=0.082\n",
      "n_estimator=310, depth=11, socre=0.730536, std=0.092\n",
      "n_estimator=310, depth=12, socre=0.723924, std=0.091\n",
      "n_estimator=310, depth=13, socre=0.725766, std=0.088\n",
      "n_estimator=310, depth=15, socre=0.729109, std=0.088\n",
      "n_estimator=360, depth=5, socre=0.714178, std=0.090\n",
      "n_estimator=360, depth=7, socre=0.719632, std=0.088\n",
      "n_estimator=360, depth=9, socre=0.725405, std=0.088\n",
      "n_estimator=360, depth=8, socre=0.723913, std=0.087\n",
      "n_estimator=360, depth=10, socre=0.718287, std=0.082\n",
      "n_estimator=360, depth=11, socre=0.728229, std=0.092\n",
      "n_estimator=360, depth=12, socre=0.721563, std=0.089\n",
      "n_estimator=360, depth=13, socre=0.723924, std=0.091\n",
      "n_estimator=360, depth=15, socre=0.729109, std=0.088\n",
      "n_estimator=410, depth=5, socre=0.714178, std=0.090\n",
      "n_estimator=410, depth=7, socre=0.722043, std=0.091\n",
      "n_estimator=410, depth=9, socre=0.717132, std=0.087\n",
      "n_estimator=410, depth=8, socre=0.717199, std=0.086\n",
      "n_estimator=410, depth=10, socre=0.718287, std=0.082\n",
      "n_estimator=410, depth=11, socre=0.733337, std=0.085\n",
      "n_estimator=410, depth=12, socre=0.721563, std=0.089\n",
      "n_estimator=410, depth=13, socre=0.726966, std=0.088\n",
      "n_estimator=410, depth=15, socre=0.731406, std=0.089\n",
      "n_estimator=460, depth=5, socre=0.714178, std=0.090\n",
      "n_estimator=460, depth=7, socre=0.719632, std=0.088\n",
      "n_estimator=460, depth=9, socre=0.717199, std=0.086\n",
      "n_estimator=460, depth=8, socre=0.717199, std=0.086\n",
      "n_estimator=460, depth=10, socre=0.718287, std=0.082\n",
      "n_estimator=460, depth=11, socre=0.731031, std=0.085\n",
      "n_estimator=460, depth=12, socre=0.721563, std=0.089\n",
      "n_estimator=460, depth=13, socre=0.719720, std=0.091\n",
      "n_estimator=460, depth=15, socre=0.724401, std=0.096\n"
     ]
    }
   ],
   "source": [
    "# max_depth == 15 for n_estimator=110\n",
    "for n in range(10, 500, 50):\n",
    "    for depth in [5, 7, 9, 8, 10, 11, 12, 13, 15]:\n",
    "        RF_clf = RandomForestClassifier(n_estimators=n, max_depth=depth, random_state=42)\n",
    "        score = cross_val_score(RF_clf, x_train, y_train, cv=CV, n_jobs=-1, scoring=\"f1_macro\")\n",
    "        print(\"n_estimator=%d, depth=%d, socre=%f, std=%.3f\" %(n, depth, np.mean(score), np.std(score)))"
   ]
  },
  {
   "cell_type": "markdown",
   "id": "46dde11e",
   "metadata": {},
   "source": [
    "**3. parameter - min_samples_split**"
   ]
  },
  {
   "cell_type": "code",
   "execution_count": 64,
   "id": "bc982a2d",
   "metadata": {
    "ExecuteTime": {
     "end_time": "2022-11-09T11:21:55.659056Z",
     "start_time": "2022-11-09T11:21:42.101804Z"
    }
   },
   "outputs": [
    {
     "name": "stdout",
     "output_type": "stream",
     "text": [
      "min-samples=3, socre=0.736309, std=(+-0.090)\n",
      "min-samples=6, socre=0.733674, std=(+-0.083)\n",
      "min-samples=7, socre=0.729986, std=(+-0.084)\n",
      "min-samples=8, socre=0.733319, std=(+-0.075)\n",
      "min-samples=9, socre=0.730030, std=(+-0.077)\n",
      "min-samples=10, socre=0.733704, std=(+-0.088)\n",
      "min-samples=50, socre=0.716341, std=(+-0.089)\n"
     ]
    }
   ],
   "source": [
    "# min_samples_split == 3\n",
    "for samples in [3, 6, 7, 8, 9, 10, 50]:\n",
    "    RF_clf = RandomForestClassifier(n_estimators=110, max_depth=15, min_samples_split=samples, random_state=42)\n",
    "    score = cross_val_score(RF_clf, x_train, y_train, cv=CV, n_jobs=-1, scoring=\"f1_macro\")\n",
    "    print(\"min-samples=%d, socre=%f, std=(+-%.3f)\" %(samples, np.mean(score), np.std(score)))"
   ]
  },
  {
   "cell_type": "markdown",
   "id": "9e4634d6",
   "metadata": {},
   "source": [
    "**4. parameter - max_features**"
   ]
  },
  {
   "cell_type": "code",
   "execution_count": 65,
   "id": "0e5a1a34",
   "metadata": {
    "ExecuteTime": {
     "end_time": "2022-11-09T11:22:20.146962Z",
     "start_time": "2022-11-09T11:21:55.663065Z"
    }
   },
   "outputs": [
    {
     "name": "stdout",
     "output_type": "stream",
     "text": [
      "max-features=1, socre=0.705393, std=(+-0.093)\n",
      "max-features=3, socre=0.715442, std=(+-0.080)\n",
      "max-features=5, socre=0.730218, std=(+-0.085)\n",
      "max-features=7, socre=0.713781, std=(+-0.078)\n",
      "max-features=9, socre=0.716620, std=(+-0.081)\n",
      "max-features=11, socre=0.724054, std=(+-0.088)\n",
      "max-features=13, socre=0.723633, std=(+-0.081)\n",
      "max-features=15, socre=0.725086, std=(+-0.078)\n",
      "max-features=17, socre=0.719031, std=(+-0.078)\n",
      "max-features=19, socre=0.732536, std=(+-0.069)\n",
      "max-features=21, socre=0.719233, std=(+-0.080)\n",
      "max-features=sqrt, socre=0.736309, std=(+-0.090)\n",
      "max-features=log2, socre=0.736309, std=(+-0.090)\n"
     ]
    }
   ],
   "source": [
    "# max_features == 'sqrt'\n",
    "for features in list(range(1, 22, 2))+['sqrt', 'log2']:\n",
    "    RF_clf = RandomForestClassifier(n_estimators=110, \n",
    "                                    max_depth=15, \n",
    "                                    min_samples_split=3,\n",
    "                                    min_samples_leaf=1,\n",
    "                                    max_features=features,\n",
    "                                    warm_start=True,\n",
    "                                    random_state=42)\n",
    "    score = cross_val_score(RF_clf, x_train, y_train, cv=CV, n_jobs=-1, scoring=\"f1_macro\")\n",
    "    print(\"max-features=%s, socre=%f, std=(+-%.3f)\" %(features, np.mean(score), np.std(score)))"
   ]
  },
  {
   "cell_type": "markdown",
   "id": "5baa5c85",
   "metadata": {},
   "source": [
    "**Final Model - Random forest classifier**"
   ]
  },
  {
   "cell_type": "code",
   "execution_count": 66,
   "id": "e95f5f0a",
   "metadata": {
    "ExecuteTime": {
     "end_time": "2022-11-09T11:22:20.547726Z",
     "start_time": "2022-11-09T11:22:20.146962Z"
    }
   },
   "outputs": [
    {
     "name": "stdout",
     "output_type": "stream",
     "text": [
      "score::0.740518\n"
     ]
    }
   ],
   "source": [
    "# final model \n",
    "RF_clf = RandomForestClassifier(n_estimators=110, \n",
    "                                max_depth=15, \n",
    "                                min_samples_split=3,\n",
    "                                min_samples_leaf=1,\n",
    "                                max_features='sqrt',\n",
    "                                n_jobs=-1,\n",
    "                                random_state=42)\n",
    "RF_clf.fit(x_train, y_train)\n",
    "y_preds = RF_clf.predict(x_val)\n",
    "print(\"score::%f\" %f1_score(y_val, y_preds, average='macro'))"
   ]
  },
  {
   "cell_type": "markdown",
   "id": "767aa223",
   "metadata": {},
   "source": [
    "#### 4.6 Model development - Logistic Regression\n",
    "\n",
    "##### 4.6.1 Hyper-parameter Tunning\n",
    "\n",
    "**Parameter - C**"
   ]
  },
  {
   "cell_type": "code",
   "execution_count": 67,
   "id": "3cfa6afe",
   "metadata": {
    "ExecuteTime": {
     "end_time": "2022-11-09T11:22:20.720617Z",
     "start_time": "2022-11-09T11:22:20.547726Z"
    }
   },
   "outputs": [
    {
     "name": "stdout",
     "output_type": "stream",
     "text": [
      "C::0.100000 score::0.745061\n",
      "C::0.200000 score::0.736748\n",
      "C::0.300000 score::0.736748\n",
      "C::0.500000 score::0.736748\n",
      "C::0.800000 score::0.736748\n",
      "C::1.000000 score::0.736748\n",
      "C::1.200000 score::0.736748\n"
     ]
    }
   ],
   "source": [
    "# C = 0.1\n",
    "for c in [0.1, 0.2, 0.3, 0.5, 0.8, 1, 1.2]:\n",
    "    LR_clf = LogisticRegression(solver='liblinear', C=c, random_state=42)\n",
    "    LR_clf.fit(x_train, y_train)\n",
    "    y_preds = LR_clf.predict(x_val)\n",
    "    print(\"C::%f score::%f\" % (c, f1_score(y_val, y_preds, average='macro')))"
   ]
  },
  {
   "cell_type": "markdown",
   "id": "098199d0",
   "metadata": {},
   "source": [
    "## 5. Final Models Evaluation"
   ]
  },
  {
   "cell_type": "code",
   "execution_count": 68,
   "id": "b86611ad",
   "metadata": {
    "ExecuteTime": {
     "end_time": "2022-11-09T11:22:21.442240Z",
     "start_time": "2022-11-09T11:22:20.735605Z"
    }
   },
   "outputs": [
    {
     "name": "stdout",
     "output_type": "stream",
     "text": [
      "Classifier:: GradientBoostingClassifier(learning_rate=0.03, max_features=11,\n",
      "                           min_samples_leaf=50, min_samples_split=200,\n",
      "                           n_estimators=250, random_state=42, warm_start=True)\n",
      "F1-Score::0.778986\n",
      "Classifier:: RandomForestClassifier(max_depth=15, min_samples_split=3, n_estimators=110,\n",
      "                       n_jobs=-1, random_state=42)\n",
      "F1-Score::0.740518\n",
      "Classifier:: SVC(C=3, gamma=0.1, random_state=42)\n",
      "F1-Score::0.726776\n",
      "Classifier:: LogisticRegression(C=0.1, random_state=42, solver='liblinear')\n",
      "F1-Score::0.745061\n"
     ]
    }
   ],
   "source": [
    "# models \n",
    "GB_clf = GradientBoostingClassifier(n_estimators=250, \n",
    "                                    learning_rate=0.03, \n",
    "                                    max_depth=3, \n",
    "                                    min_samples_split=200, \n",
    "                                    min_samples_leaf=50,\n",
    "                                    max_features=11,\n",
    "                                    warm_start=True,\n",
    "                                    random_state=42\n",
    "                                   )\n",
    "RF_clf = RandomForestClassifier(n_estimators=110, \n",
    "                                max_depth=15, \n",
    "                                min_samples_split=3,\n",
    "                                min_samples_leaf=1,\n",
    "                                max_features='sqrt',\n",
    "                                n_jobs=-1,\n",
    "                                random_state=42)\n",
    "SVC_clf = SVC(C=3, gamma=0.1, random_state=42)\n",
    "LR_clf = LogisticRegression(solver='liblinear', C=0.1, random_state=42)\n",
    "\n",
    "for model in [GB_clf, RF_clf, SVC_clf, LR_clf]:\n",
    "    model.fit(x_train, y_train)\n",
    "    y_preds = model.predict(x_val)\n",
    "    score = f1_score(y_val, y_preds, average='macro')\n",
    "    print(\"Classifier:: %s\" % model)\n",
    "    print(\"F1-Score::%f\" % score)    "
   ]
  },
  {
   "cell_type": "markdown",
   "id": "66ce27e0",
   "metadata": {},
   "source": [
    "### 5.1 Model Evaluation on Test Dataset"
   ]
  },
  {
   "cell_type": "code",
   "execution_count": 69,
   "id": "314808f0",
   "metadata": {
    "ExecuteTime": {
     "end_time": "2022-11-09T11:22:21.474240Z",
     "start_time": "2022-11-09T11:22:21.447337Z"
    }
   },
   "outputs": [],
   "source": [
    "# Data preparation\n",
    "X_test, Y_test = df_test[numeric_features + categorical_features], df_test['loan_status']\n",
    "x_test = pd.DataFrame(preprocessor.transform(X_test))\n",
    "y_test = (Y_test == 'y').astype('int').reset_index(drop=True)"
   ]
  },
  {
   "cell_type": "code",
   "execution_count": 70,
   "id": "78ac76f3",
   "metadata": {
    "ExecuteTime": {
     "end_time": "2022-11-09T11:22:21.617758Z",
     "start_time": "2022-11-09T11:22:21.477227Z"
    }
   },
   "outputs": [
    {
     "name": "stdout",
     "output_type": "stream",
     "text": [
      "Classifier:: GradientBoostingClassifier(learning_rate=0.03, max_features=11,\n",
      "                           min_samples_leaf=50, min_samples_split=200,\n",
      "                           n_estimators=250, random_state=42, warm_start=True)\n",
      "F1-Score::0.780142\n",
      "Classifier:: RandomForestClassifier(max_depth=15, min_samples_split=3, n_estimators=110,\n",
      "                       n_jobs=-1, random_state=42)\n",
      "F1-Score::0.720430\n",
      "Classifier:: SVC(C=3, gamma=0.1, random_state=42)\n",
      "F1-Score::0.763441\n",
      "Classifier:: LogisticRegression(C=0.1, random_state=42, solver='liblinear')\n",
      "F1-Score::0.752450\n"
     ]
    }
   ],
   "source": [
    "# Model evaluation on test dataset\n",
    "for model in [GB_clf, RF_clf, SVC_clf, LR_clf]:\n",
    "    y_preds = model.predict(x_test)\n",
    "    score = f1_score(y_test, y_preds, average='macro')\n",
    "    print(\"Classifier:: %s\" % model)\n",
    "    print(\"F1-Score::%f\" % score)    "
   ]
  },
  {
   "cell_type": "markdown",
   "id": "ee641875",
   "metadata": {},
   "source": [
    "`GradientBoostingClassifier` gives higher f1 score on test data. Hence, it is selected as a final model"
   ]
  }
 ],
 "metadata": {
  "gist": {
   "data": {
    "description": "Loan EDA.ipynb",
    "public": false
   },
   "id": ""
  },
  "hide_input": false,
  "kernelspec": {
   "display_name": "Python 3.9.7 ('CancerML-sRol2iSO')",
   "language": "python",
   "name": "python3"
  },
  "language_info": {
   "codemirror_mode": {
    "name": "ipython",
    "version": 3
   },
   "file_extension": ".py",
   "mimetype": "text/x-python",
   "name": "python",
   "nbconvert_exporter": "python",
   "pygments_lexer": "ipython3",
   "version": "3.9.7"
  },
  "vscode": {
   "interpreter": {
    "hash": "328b396fe1c4df879ff9568dca24bef908415015bcad1b6bc0c62c5644d367d6"
   }
  }
 },
 "nbformat": 4,
 "nbformat_minor": 5
}
